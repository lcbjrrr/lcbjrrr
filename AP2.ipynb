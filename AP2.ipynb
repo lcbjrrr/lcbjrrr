{
  "nbformat": 4,
  "nbformat_minor": 0,
  "metadata": {
    "colab": {
      "name": "AP2.ipynb",
      "provenance": [],
      "collapsed_sections": [],
      "include_colab_link": true
    },
    "kernelspec": {
      "name": "python3",
      "display_name": "Python 3"
    },
    "language_info": {
      "name": "python"
    }
  },
  "cells": [
    {
      "cell_type": "markdown",
      "metadata": {
        "id": "view-in-github",
        "colab_type": "text"
      },
      "source": [
        "<a href=\"https://colab.research.google.com/github/lcbjrrr/lcbjrrr/blob/master/AP2.ipynb\" target=\"_parent\"><img src=\"https://colab.research.google.com/assets/colab-badge.svg\" alt=\"Open In Colab\"/></a>"
      ]
    },
    {
      "cell_type": "code",
      "metadata": {
        "id": "aqy_DuDjUHu5"
      },
      "source": [
        ""
      ],
      "execution_count": null,
      "outputs": []
    },
    {
      "cell_type": "code",
      "metadata": {
        "colab": {
          "base_uri": "https://localhost:8080/"
        },
        "id": "lp0cUs_jUJ1e",
        "outputId": "8eae46e0-7345-4f59-a5f8-0a0b92fe76a5"
      },
      "source": [
        "from google.colab import drive\n",
        "drive.mount(\"/content/drive\")"
      ],
      "execution_count": null,
      "outputs": [
        {
          "output_type": "stream",
          "name": "stdout",
          "text": [
            "Mounted at /content/drive\n"
          ]
        }
      ]
    },
    {
      "cell_type": "code",
      "metadata": {
        "colab": {
          "base_uri": "https://localhost:8080/",
          "height": 417
        },
        "id": "zW9qf4PIUe1p",
        "outputId": "c7253f1a-4675-47b6-8783-8b99a18b2c83"
      },
      "source": [
        "import pandas as pd\n",
        "dados = pd.read_csv('https://raw.githubusercontent.com/lcbjrrr/lcbjrrr/master/Basedados_programacao%20-%20XL.csv')\n",
        "dados"
      ],
      "execution_count": null,
      "outputs": [
        {
          "output_type": "execute_result",
          "data": {
            "text/html": [
              "<div>\n",
              "<style scoped>\n",
              "    .dataframe tbody tr th:only-of-type {\n",
              "        vertical-align: middle;\n",
              "    }\n",
              "\n",
              "    .dataframe tbody tr th {\n",
              "        vertical-align: top;\n",
              "    }\n",
              "\n",
              "    .dataframe thead th {\n",
              "        text-align: right;\n",
              "    }\n",
              "</style>\n",
              "<table border=\"1\" class=\"dataframe\">\n",
              "  <thead>\n",
              "    <tr style=\"text-align: right;\">\n",
              "      <th></th>\n",
              "      <th>Ano</th>\n",
              "      <th>mes</th>\n",
              "      <th>Empresa (nome)</th>\n",
              "      <th>Empresa (sigla)</th>\n",
              "      <th>Empresa (pais)</th>\n",
              "      <th>Natureza</th>\n",
              "      <th>Passageiros</th>\n",
              "      <th>carga e correio (kg)</th>\n",
              "    </tr>\n",
              "  </thead>\n",
              "  <tbody>\n",
              "    <tr>\n",
              "      <th>0</th>\n",
              "      <td>2019</td>\n",
              "      <td>1</td>\n",
              "      <td>AIGLE AZUR</td>\n",
              "      <td>AAF</td>\n",
              "      <td>FRANÃ‡A</td>\n",
              "      <td>INTERNACIONAL</td>\n",
              "      <td>7169</td>\n",
              "      <td>126460</td>\n",
              "    </tr>\n",
              "    <tr>\n",
              "      <th>1</th>\n",
              "      <td>2019</td>\n",
              "      <td>1</td>\n",
              "      <td>AMERICAN AIRLINES,INC.</td>\n",
              "      <td>AAL</td>\n",
              "      <td>ESTADOS UNIDOS DA AMÃ‰RICA</td>\n",
              "      <td>INTERNACIONAL</td>\n",
              "      <td>132819</td>\n",
              "      <td>3254526</td>\n",
              "    </tr>\n",
              "    <tr>\n",
              "      <th>2</th>\n",
              "      <td>2019</td>\n",
              "      <td>1</td>\n",
              "      <td>AIR CANADA</td>\n",
              "      <td>ACA</td>\n",
              "      <td>CANADÃ</td>\n",
              "      <td>INTERNACIONAL</td>\n",
              "      <td>25586</td>\n",
              "      <td>460667</td>\n",
              "    </tr>\n",
              "    <tr>\n",
              "      <th>3</th>\n",
              "      <td>2019</td>\n",
              "      <td>1</td>\n",
              "      <td>AIR EUROPA LINEAS AEREAS SOCIEDAD ANONIMA</td>\n",
              "      <td>AEA</td>\n",
              "      <td>ESPANHA</td>\n",
              "      <td>INTERNACIONAL</td>\n",
              "      <td>25011</td>\n",
              "      <td>594884</td>\n",
              "    </tr>\n",
              "    <tr>\n",
              "      <th>4</th>\n",
              "      <td>2019</td>\n",
              "      <td>1</td>\n",
              "      <td>SOCIÃ‰TÃ‰ AIR FRANCE</td>\n",
              "      <td>AFR</td>\n",
              "      <td>FRANÃ‡A</td>\n",
              "      <td>INTERNACIONAL</td>\n",
              "      <td>64770</td>\n",
              "      <td>1676283</td>\n",
              "    </tr>\n",
              "    <tr>\n",
              "      <th>...</th>\n",
              "      <td>...</td>\n",
              "      <td>...</td>\n",
              "      <td>...</td>\n",
              "      <td>...</td>\n",
              "      <td>...</td>\n",
              "      <td>...</td>\n",
              "      <td>...</td>\n",
              "      <td>...</td>\n",
              "    </tr>\n",
              "    <tr>\n",
              "      <th>1654</th>\n",
              "      <td>2020</td>\n",
              "      <td>12</td>\n",
              "      <td>EMIRATES</td>\n",
              "      <td>UAE</td>\n",
              "      <td>EMIRADOS ÃRABES UNIDOS</td>\n",
              "      <td>INTERNACIONAL</td>\n",
              "      <td>7860</td>\n",
              "      <td>2525779</td>\n",
              "    </tr>\n",
              "    <tr>\n",
              "      <th>1655</th>\n",
              "      <td>2020</td>\n",
              "      <td>12</td>\n",
              "      <td>UNITED AIRLINES,INC</td>\n",
              "      <td>UAL</td>\n",
              "      <td>ESTADOS UNIDOS DA AMÃ‰RICA</td>\n",
              "      <td>INTERNACIONAL</td>\n",
              "      <td>20990</td>\n",
              "      <td>2301634</td>\n",
              "    </tr>\n",
              "    <tr>\n",
              "      <th>1656</th>\n",
              "      <td>2020</td>\n",
              "      <td>12</td>\n",
              "      <td>UKRAINE AIR ALLIANCE AIRLINES</td>\n",
              "      <td>UKL</td>\n",
              "      <td>UCRÃ‚NIA</td>\n",
              "      <td>INTERNACIONAL</td>\n",
              "      <td>0</td>\n",
              "      <td>14168</td>\n",
              "    </tr>\n",
              "    <tr>\n",
              "      <th>1657</th>\n",
              "      <td>2020</td>\n",
              "      <td>12</td>\n",
              "      <td>UPS - UNITED PARCEL SERVICE CO.</td>\n",
              "      <td>UPS</td>\n",
              "      <td>ESTADOS UNIDOS DA AMÃ‰RICA</td>\n",
              "      <td>INTERNACIONAL</td>\n",
              "      <td>0</td>\n",
              "      <td>2031978</td>\n",
              "    </tr>\n",
              "    <tr>\n",
              "      <th>1658</th>\n",
              "      <td>2020</td>\n",
              "      <td>12</td>\n",
              "      <td>VOLGA DNEPR AIRLINES</td>\n",
              "      <td>VDA</td>\n",
              "      <td>RÃšSSIA</td>\n",
              "      <td>INTERNACIONAL</td>\n",
              "      <td>0</td>\n",
              "      <td>46871</td>\n",
              "    </tr>\n",
              "  </tbody>\n",
              "</table>\n",
              "<p>1659 rows × 8 columns</p>\n",
              "</div>"
            ],
            "text/plain": [
              "       Ano  mes  ... Passageiros carga e correio (kg)\n",
              "0     2019    1  ...        7169               126460\n",
              "1     2019    1  ...      132819              3254526\n",
              "2     2019    1  ...       25586               460667\n",
              "3     2019    1  ...       25011               594884\n",
              "4     2019    1  ...       64770              1676283\n",
              "...    ...  ...  ...         ...                  ...\n",
              "1654  2020   12  ...        7860              2525779\n",
              "1655  2020   12  ...       20990              2301634\n",
              "1656  2020   12  ...           0                14168\n",
              "1657  2020   12  ...           0              2031978\n",
              "1658  2020   12  ...           0                46871\n",
              "\n",
              "[1659 rows x 8 columns]"
            ]
          },
          "metadata": {},
          "execution_count": 2
        }
      ]
    },
    {
      "cell_type": "code",
      "metadata": {
        "colab": {
          "base_uri": "https://localhost:8080/",
          "height": 354
        },
        "id": "am5CoZYDVx56",
        "outputId": "e5ca30f3-afb4-4bed-aca0-cbfd3d869ac3"
      },
      "source": [
        "display(dados.dtypes)\n",
        "display(dados.head())"
      ],
      "execution_count": null,
      "outputs": [
        {
          "output_type": "display_data",
          "data": {
            "text/plain": [
              "Ano                      int64\n",
              "mes                      int64\n",
              "Empresa (nome)          object\n",
              "Empresa (sigla)         object\n",
              "Empresa (pais)          object\n",
              "Natureza                object\n",
              "Passageiros              int64\n",
              "carga e correio (kg)     int64\n",
              "dtype: object"
            ]
          },
          "metadata": {}
        },
        {
          "output_type": "display_data",
          "data": {
            "text/html": [
              "<div>\n",
              "<style scoped>\n",
              "    .dataframe tbody tr th:only-of-type {\n",
              "        vertical-align: middle;\n",
              "    }\n",
              "\n",
              "    .dataframe tbody tr th {\n",
              "        vertical-align: top;\n",
              "    }\n",
              "\n",
              "    .dataframe thead th {\n",
              "        text-align: right;\n",
              "    }\n",
              "</style>\n",
              "<table border=\"1\" class=\"dataframe\">\n",
              "  <thead>\n",
              "    <tr style=\"text-align: right;\">\n",
              "      <th></th>\n",
              "      <th>Ano</th>\n",
              "      <th>mes</th>\n",
              "      <th>Empresa (nome)</th>\n",
              "      <th>Empresa (sigla)</th>\n",
              "      <th>Empresa (pais)</th>\n",
              "      <th>Natureza</th>\n",
              "      <th>Passageiros</th>\n",
              "      <th>carga e correio (kg)</th>\n",
              "    </tr>\n",
              "  </thead>\n",
              "  <tbody>\n",
              "    <tr>\n",
              "      <th>0</th>\n",
              "      <td>2019</td>\n",
              "      <td>1</td>\n",
              "      <td>AIGLE AZUR</td>\n",
              "      <td>AAF</td>\n",
              "      <td>FRANÃ‡A</td>\n",
              "      <td>INTERNACIONAL</td>\n",
              "      <td>7169</td>\n",
              "      <td>126460</td>\n",
              "    </tr>\n",
              "    <tr>\n",
              "      <th>1</th>\n",
              "      <td>2019</td>\n",
              "      <td>1</td>\n",
              "      <td>AMERICAN AIRLINES,INC.</td>\n",
              "      <td>AAL</td>\n",
              "      <td>ESTADOS UNIDOS DA AMÃ‰RICA</td>\n",
              "      <td>INTERNACIONAL</td>\n",
              "      <td>132819</td>\n",
              "      <td>3254526</td>\n",
              "    </tr>\n",
              "    <tr>\n",
              "      <th>2</th>\n",
              "      <td>2019</td>\n",
              "      <td>1</td>\n",
              "      <td>AIR CANADA</td>\n",
              "      <td>ACA</td>\n",
              "      <td>CANADÃ</td>\n",
              "      <td>INTERNACIONAL</td>\n",
              "      <td>25586</td>\n",
              "      <td>460667</td>\n",
              "    </tr>\n",
              "    <tr>\n",
              "      <th>3</th>\n",
              "      <td>2019</td>\n",
              "      <td>1</td>\n",
              "      <td>AIR EUROPA LINEAS AEREAS SOCIEDAD ANONIMA</td>\n",
              "      <td>AEA</td>\n",
              "      <td>ESPANHA</td>\n",
              "      <td>INTERNACIONAL</td>\n",
              "      <td>25011</td>\n",
              "      <td>594884</td>\n",
              "    </tr>\n",
              "    <tr>\n",
              "      <th>4</th>\n",
              "      <td>2019</td>\n",
              "      <td>1</td>\n",
              "      <td>SOCIÃ‰TÃ‰ AIR FRANCE</td>\n",
              "      <td>AFR</td>\n",
              "      <td>FRANÃ‡A</td>\n",
              "      <td>INTERNACIONAL</td>\n",
              "      <td>64770</td>\n",
              "      <td>1676283</td>\n",
              "    </tr>\n",
              "  </tbody>\n",
              "</table>\n",
              "</div>"
            ],
            "text/plain": [
              "    Ano  mes  ... Passageiros carga e correio (kg)\n",
              "0  2019    1  ...        7169               126460\n",
              "1  2019    1  ...      132819              3254526\n",
              "2  2019    1  ...       25586               460667\n",
              "3  2019    1  ...       25011               594884\n",
              "4  2019    1  ...       64770              1676283\n",
              "\n",
              "[5 rows x 8 columns]"
            ]
          },
          "metadata": {}
        }
      ]
    },
    {
      "cell_type": "code",
      "metadata": {
        "colab": {
          "base_uri": "https://localhost:8080/"
        },
        "id": "D6T6OgNcVVCa",
        "outputId": "151e26fa-eaf3-4e61-bcb1-d09ad57a0333"
      },
      "source": [
        "dados.info()\n",
        "print('_'*40)"
      ],
      "execution_count": null,
      "outputs": [
        {
          "output_type": "stream",
          "name": "stdout",
          "text": [
            "<class 'pandas.core.frame.DataFrame'>\n",
            "RangeIndex: 1659 entries, 0 to 1658\n",
            "Data columns (total 8 columns):\n",
            " #   Column                Non-Null Count  Dtype \n",
            "---  ------                --------------  ----- \n",
            " 0   Ano                   1659 non-null   int64 \n",
            " 1   mes                   1659 non-null   int64 \n",
            " 2   Empresa (nome)        1659 non-null   object\n",
            " 3   Empresa (sigla)       1659 non-null   object\n",
            " 4   Empresa (pais)        1659 non-null   object\n",
            " 5   Natureza              1659 non-null   object\n",
            " 6   Passageiros           1659 non-null   int64 \n",
            " 7   carga e correio (kg)  1659 non-null   int64 \n",
            "dtypes: int64(4), object(4)\n",
            "memory usage: 103.8+ KB\n",
            "________________________________________\n"
          ]
        }
      ]
    },
    {
      "cell_type": "markdown",
      "metadata": {
        "id": "fYDyqjRNDX8K"
      },
      "source": [
        "ETAPA SUMARIZAÇÃO"
      ]
    },
    {
      "cell_type": "markdown",
      "metadata": {
        "id": "9I0g3sryWmjq"
      },
      "source": [
        "Na primeira sumarização foi feito um agrupamento dos dados da quantidade de passageiros transportados a cada mês."
      ]
    },
    {
      "cell_type": "code",
      "metadata": {
        "colab": {
          "base_uri": "https://localhost:8080/"
        },
        "id": "T9RJxoo4vw27",
        "outputId": "b83e72f4-8717-48ef-859f-c9c5bf0b255c"
      },
      "source": [
        "somapassa = dados.groupby('mes').sum()['Passageiros']\n",
        "somapassa"
      ],
      "execution_count": null,
      "outputs": [
        {
          "output_type": "execute_result",
          "data": {
            "text/plain": [
              "mes\n",
              "1     22874692\n",
              "2     19022467\n",
              "3     16025770\n",
              "4      9652948\n",
              "5      9627358\n",
              "6      9846051\n",
              "7     12462273\n",
              "8     12252752\n",
              "9     12923151\n",
              "10    14550694\n",
              "11    14930660\n",
              "12    17003486\n",
              "Name: Passageiros, dtype: int64"
            ]
          },
          "metadata": {},
          "execution_count": 89
        }
      ]
    },
    {
      "cell_type": "markdown",
      "metadata": {
        "id": "XgB9S7idZTla"
      },
      "source": [
        "Nessa sumarização foi feito o agrupamento da Natureza, sendo separado em Internacional e Doméstico, sendo somado todos as vezes que essas variáveis aparecem."
      ]
    },
    {
      "cell_type": "code",
      "metadata": {
        "colab": {
          "base_uri": "https://localhost:8080/"
        },
        "id": "CWd9xcs7NzGS",
        "outputId": "82681017-569d-4f76-9312-35964a5e921d"
      },
      "source": [
        "dados.groupby('Natureza').size()"
      ],
      "execution_count": null,
      "outputs": [
        {
          "output_type": "execute_result",
          "data": {
            "text/plain": [
              "Natureza\n",
              "DOMÃ‰STICA        268\n",
              "INTERNACIONAL    1391\n",
              "dtype: int64"
            ]
          },
          "metadata": {},
          "execution_count": 68
        }
      ]
    },
    {
      "cell_type": "code",
      "metadata": {
        "colab": {
          "base_uri": "https://localhost:8080/"
        },
        "id": "TVkTqv6rQXCU",
        "outputId": "b08c8ae5-864d-411c-b864-6cbdb6eaf725"
      },
      "source": [
        "len(dados[dados.Natureza=='INTERNACIONAL'])"
      ],
      "execution_count": null,
      "outputs": [
        {
          "output_type": "execute_result",
          "data": {
            "text/plain": [
              "1391"
            ]
          },
          "metadata": {},
          "execution_count": 69
        }
      ]
    },
    {
      "cell_type": "code",
      "metadata": {
        "colab": {
          "base_uri": "https://localhost:8080/"
        },
        "id": "IwLegmK4Qxt-",
        "outputId": "c5c8435a-83e0-4e54-b73e-41fcfe1d7315"
      },
      "source": [
        "len(dados[dados.Natureza=='DOMÃ‰STICA'])"
      ],
      "execution_count": null,
      "outputs": [
        {
          "output_type": "execute_result",
          "data": {
            "text/plain": [
              "268"
            ]
          },
          "metadata": {},
          "execution_count": 70
        }
      ]
    },
    {
      "cell_type": "code",
      "metadata": {
        "colab": {
          "base_uri": "https://localhost:8080/",
          "height": 80
        },
        "id": "RTvRbk6pRYFV",
        "outputId": "6fc7f1ef-a189-47b8-896e-2f308d4c955d"
      },
      "source": [
        "da = pd.Series({'INTERNACIONAL':1389,'DOMÃ‰STICA':268})\n",
        "df1 = pd.DataFrame([da])\n",
        "df1"
      ],
      "execution_count": null,
      "outputs": [
        {
          "output_type": "execute_result",
          "data": {
            "text/html": [
              "<div>\n",
              "<style scoped>\n",
              "    .dataframe tbody tr th:only-of-type {\n",
              "        vertical-align: middle;\n",
              "    }\n",
              "\n",
              "    .dataframe tbody tr th {\n",
              "        vertical-align: top;\n",
              "    }\n",
              "\n",
              "    .dataframe thead th {\n",
              "        text-align: right;\n",
              "    }\n",
              "</style>\n",
              "<table border=\"1\" class=\"dataframe\">\n",
              "  <thead>\n",
              "    <tr style=\"text-align: right;\">\n",
              "      <th></th>\n",
              "      <th>INTERNACIONAL</th>\n",
              "      <th>DOMÃ‰STICA</th>\n",
              "    </tr>\n",
              "  </thead>\n",
              "  <tbody>\n",
              "    <tr>\n",
              "      <th>0</th>\n",
              "      <td>1389</td>\n",
              "      <td>268</td>\n",
              "    </tr>\n",
              "  </tbody>\n",
              "</table>\n",
              "</div>"
            ],
            "text/plain": [
              "   INTERNACIONAL  DOMÃ‰STICA\n",
              "0           1389         268"
            ]
          },
          "metadata": {},
          "execution_count": 71
        }
      ]
    },
    {
      "cell_type": "markdown",
      "metadata": {
        "id": "UAaErLupbUdL"
      },
      "source": [
        "Nessa sumarização foi agrupado o Ano, sendo somado o de 2019 e 2020, sendo somado todos as vezes que essas variáveis aparecem."
      ]
    },
    {
      "cell_type": "code",
      "metadata": {
        "colab": {
          "base_uri": "https://localhost:8080/"
        },
        "id": "s51czIaOTj2u",
        "outputId": "3794a76c-0550-413d-d2e8-aa168c2c84e1"
      },
      "source": [
        "dados.groupby('Ano').size()"
      ],
      "execution_count": null,
      "outputs": [
        {
          "output_type": "execute_result",
          "data": {
            "text/plain": [
              "Ano\n",
              "2019    880\n",
              "2020    779\n",
              "dtype: int64"
            ]
          },
          "metadata": {},
          "execution_count": 72
        }
      ]
    },
    {
      "cell_type": "code",
      "metadata": {
        "colab": {
          "base_uri": "https://localhost:8080/",
          "height": 80
        },
        "id": "MOSEY9lOU8Ir",
        "outputId": "b41eb0c9-4b64-4353-d983-c82ff8c76e64"
      },
      "source": [
        "da = pd.Series({'2019':880,'2020':779})\n",
        "df2 = pd.DataFrame([da])\n",
        "df2"
      ],
      "execution_count": null,
      "outputs": [
        {
          "output_type": "execute_result",
          "data": {
            "text/html": [
              "<div>\n",
              "<style scoped>\n",
              "    .dataframe tbody tr th:only-of-type {\n",
              "        vertical-align: middle;\n",
              "    }\n",
              "\n",
              "    .dataframe tbody tr th {\n",
              "        vertical-align: top;\n",
              "    }\n",
              "\n",
              "    .dataframe thead th {\n",
              "        text-align: right;\n",
              "    }\n",
              "</style>\n",
              "<table border=\"1\" class=\"dataframe\">\n",
              "  <thead>\n",
              "    <tr style=\"text-align: right;\">\n",
              "      <th></th>\n",
              "      <th>2019</th>\n",
              "      <th>2020</th>\n",
              "    </tr>\n",
              "  </thead>\n",
              "  <tbody>\n",
              "    <tr>\n",
              "      <th>0</th>\n",
              "      <td>880</td>\n",
              "      <td>779</td>\n",
              "    </tr>\n",
              "  </tbody>\n",
              "</table>\n",
              "</div>"
            ],
            "text/plain": [
              "   2019  2020\n",
              "0   880   779"
            ]
          },
          "metadata": {},
          "execution_count": 74
        }
      ]
    },
    {
      "cell_type": "markdown",
      "metadata": {
        "id": "MFve8TMp_fvS"
      },
      "source": [
        "ETAPA VIZUALIZACAO (AV1)"
      ]
    },
    {
      "cell_type": "markdown",
      "metadata": {
        "id": "0LWf7uzrvefa"
      },
      "source": [
        "Nesse processo foi descoberto o maior número de passageiros transportados durante os períodos selecionados da base de dados, sendo a frequência de 3419558 passageiros durante um mês por uma companhia aérea, provavelmente operado por uma empresa nacional em voos nacionais."
      ]
    },
    {
      "cell_type": "code",
      "metadata": {
        "colab": {
          "base_uri": "https://localhost:8080/"
        },
        "id": "OKC7rRwo_Jsg",
        "outputId": "573630c2-5b68-4446-9d61-eeab019d85dd"
      },
      "source": [
        "dados.Passageiros\n",
        "max1 = max(dados.Passageiros)\n",
        "max1"
      ],
      "execution_count": null,
      "outputs": [
        {
          "output_type": "execute_result",
          "data": {
            "text/plain": [
              "3419558.0"
            ]
          },
          "metadata": {},
          "execution_count": 52
        }
      ]
    },
    {
      "cell_type": "markdown",
      "metadata": {
        "id": "aXtitHfywKC6"
      },
      "source": [
        "Nesse processo foi descoberto o menor número de passageiro transportado durante os períodos selecionados da base de dados, sendo a frequência de 0 passageiro durante um mês por uma companhia aérea, provavelmente sendo esse o número de uma empresa cargueira."
      ]
    },
    {
      "cell_type": "code",
      "metadata": {
        "colab": {
          "base_uri": "https://localhost:8080/"
        },
        "id": "IQgT8pnnbx8r",
        "outputId": "6cb63b1e-9d85-4302-ca69-85b483f87dcf"
      },
      "source": [
        "dados.Passageiros\n",
        "min1 = min(dados.Passageiros)\n",
        "min1"
      ],
      "execution_count": null,
      "outputs": [
        {
          "output_type": "execute_result",
          "data": {
            "text/plain": [
              "0"
            ]
          },
          "metadata": {},
          "execution_count": 110
        }
      ]
    },
    {
      "cell_type": "markdown",
      "metadata": {
        "id": "NTDw4NQuwuip"
      },
      "source": [
        "Nesse processo foi descoberto a média de passageiros transportados durante os períodos selecionados da base de dados, sendo a frequência aproximada de 103364.91 passageiros."
      ]
    },
    {
      "cell_type": "code",
      "metadata": {
        "colab": {
          "base_uri": "https://localhost:8080/"
        },
        "id": "SXtUZr0MdquI",
        "outputId": "547343a2-ca52-4823-bc19-b75c8f626861"
      },
      "source": [
        "dados['Passageiros'].mean()"
      ],
      "execution_count": null,
      "outputs": [
        {
          "output_type": "execute_result",
          "data": {
            "text/plain": [
              "103364.91666666667"
            ]
          },
          "metadata": {},
          "execution_count": 62
        }
      ]
    },
    {
      "cell_type": "markdown",
      "metadata": {
        "id": "YetgBmQzfwvL"
      },
      "source": [
        "ETAPA VISUALIZACAO (AV2)\n"
      ]
    },
    {
      "cell_type": "markdown",
      "metadata": {
        "id": "GFUtsNRwvPDk"
      },
      "source": [
        "Nessa análise foi feita um gráfico de barras, utilizando da soma da frequência de passageiros de cada mês dos dois anos. Percebe-se que durante o mês de abril à junho, o movimento é menor, devido ao início da pandemia, momento em que os aeroportos ficaram fechados. já nos meses de dezembro, janeiro e fevereiro a movimentação foi maior, devido as férias que aumentam significativamente a movimentação do mercado aéreo."
      ]
    },
    {
      "cell_type": "code",
      "metadata": {
        "colab": {
          "base_uri": "https://localhost:8080/",
          "height": 545
        },
        "id": "vLnkLqJbhFXy",
        "outputId": "ecaebbe3-3947-4f56-e9f7-04fa333a57a4"
      },
      "source": [
        "print(somapassa)\n",
        "somapassa.plot(kind='bar')"
      ],
      "execution_count": null,
      "outputs": [
        {
          "output_type": "stream",
          "name": "stdout",
          "text": [
            "mes\n",
            "1     22874692\n",
            "2     19022467\n",
            "3     16025770\n",
            "4      9652948\n",
            "5      9627358\n",
            "6      9846051\n",
            "7     12462273\n",
            "8     12252752\n",
            "9     12923151\n",
            "10    14550694\n",
            "11    14930660\n",
            "12    17003486\n",
            "Name: Passageiros, dtype: int64\n"
          ]
        },
        {
          "output_type": "execute_result",
          "data": {
            "text/plain": [
              "<matplotlib.axes._subplots.AxesSubplot at 0x7fe8618c9fd0>"
            ]
          },
          "metadata": {},
          "execution_count": 91
        },
        {
          "output_type": "display_data",
          "data": {
            "image/png": "[encoded data removed]",
            "text/plain": [
              "<Figure size 432x288 with 1 Axes>"
            ]
          },
          "metadata": {
            "needs_background": "light"
          }
        }
      ]
    },
    {
      "cell_type": "markdown",
      "metadata": {
        "id": "WLpE6DA96xm8"
      },
      "source": [
        "Nessa análise foi utilizado o gráfico de pizza para analizar a quantidade de vezes em que uma companhia aérea operou no Brasil. Sendo comparado essa quantidade de 2019 e 2020. É possível perceber que em 2019 teve maior frequência de operações comparado a 2020. Essa diferença se deve ao fato de em 2020 o mercado aéreo ser atingido pelo Covid-19, diminuindo a frequência dos voos."
      ]
    },
    {
      "cell_type": "code",
      "metadata": {
        "colab": {
          "base_uri": "https://localhost:8080/",
          "height": 332
        },
        "id": "OnpDLPxTn_Ri",
        "outputId": "65cfd4a4-1816-422e-8214-16383b421f69"
      },
      "source": [
        "pizzano = dados.groupby('Ano').count()['mes']\n",
        "print(pizzano)\n",
        "pizzano.plot(kind='pie')"
      ],
      "execution_count": null,
      "outputs": [
        {
          "output_type": "stream",
          "name": "stdout",
          "text": [
            "Ano\n",
            "2019    880\n",
            "2020    779\n",
            "Name: mes, dtype: int64\n"
          ]
        },
        {
          "output_type": "execute_result",
          "data": {
            "text/plain": [
              "<matplotlib.axes._subplots.AxesSubplot at 0x7fe860383650>"
            ]
          },
          "metadata": {},
          "execution_count": 100
        },
        {
          "output_type": "display_data",
          "data": {
            "image/png": "[encoded data removed]",
            "text/plain": [
              "<Figure size 432x288 with 1 Axes>"
            ]
          },
          "metadata": {}
        }
      ]
    },
    {
      "cell_type": "markdown",
      "metadata": {
        "id": "P260rlaBi0pQ"
      },
      "source": [
        "Nessa análise foi utilizado o gráfico de linha para analizar o movimento das caragas aéreas transportadas nos períodos de 2019 e 2020. É possível perceber que em 2019 teve maior quantidade de carga e com um fluxo constante comparado a 2020, ano em que há uma queda grande em abril, mês em que começou a pandemia no Brasil. Percebe-se que a partir de maio começa a ter um aumento, porém ainda lentamente, somente em outubro voltando a patamares de 2019."
      ]
    },
    {
      "cell_type": "code",
      "metadata": {
        "colab": {
          "base_uri": "https://localhost:8080/",
          "height": 744
        },
        "id": "mSsmhMRBAkNn",
        "outputId": "b8c822ee-f700-4add-bb17-967779e78a05"
      },
      "source": [
        "freq = dados.groupby(['Ano', 'mes']).sum()['carga e correio (kg)']\n",
        "print(freq)\n",
        "freq.plot()"
      ],
      "execution_count": null,
      "outputs": [
        {
          "output_type": "stream",
          "name": "stdout",
          "text": [
            "Ano   mes\n",
            "2019  1      100116696\n",
            "      2      102999411\n",
            "      3      111781582\n",
            "      4      108824078\n",
            "      5      109820871\n",
            "      6      100389282\n",
            "      7      103355567\n",
            "      8      104784514\n",
            "      9      102100072\n",
            "      10     112755971\n",
            "      11     114373785\n",
            "      12     109232764\n",
            "2020  1       98340240\n",
            "      2      101082025\n",
            "      3       97990195\n",
            "      4       56432915\n",
            "      5       66083123\n",
            "      6       69356028\n",
            "      7       76036882\n",
            "      8       81770667\n",
            "      9       87314320\n",
            "      10     100629094\n",
            "      11     103705246\n",
            "      12     107774320\n",
            "Name: carga e correio (kg), dtype: int64\n"
          ]
        },
        {
          "output_type": "execute_result",
          "data": {
            "text/plain": [
              "<matplotlib.axes._subplots.AxesSubplot at 0x7f4bcd82e390>"
            ]
          },
          "metadata": {},
          "execution_count": 5
        },
        {
          "output_type": "display_data",
          "data": {
            "image/png": "[encoded data removed]",
            "text/plain": [
              "<Figure size 432x288 with 1 Axes>"
            ]
          },
          "metadata": {
            "needs_background": "light"
          }
        }
      ]
    },
    {
      "cell_type": "markdown",
      "metadata": {
        "id": "pVxy_4FC5ZAJ"
      },
      "source": [
        "ETAPA ESTATÍSTICA"
      ]
    },
    {
      "cell_type": "code",
      "metadata": {
        "colab": {
          "base_uri": "https://localhost:8080/",
          "height": 366
        },
        "id": "2xfi7DagcuaU",
        "outputId": "492c2d81-f74a-4349-c347-e74f8ed4e75a"
      },
      "source": [
        "import seaborn as sns\n",
        "sns.boxplot(data=dados,x=\"Passageiros\",y='Ano')"
      ],
      "execution_count": null,
      "outputs": [
        {
          "output_type": "execute_result",
          "data": {
            "text/plain": [
              "<matplotlib.axes._subplots.AxesSubplot at 0x7fe866d43610>"
            ]
          },
          "metadata": {},
          "execution_count": 38
        },
        {
          "output_type": "stream",
          "name": "stderr",
          "text": [
            "/usr/local/lib/python3.7/dist-packages/matplotlib/backends/backend_agg.py:214: RuntimeWarning: Glyph 141 missing from current font.\n",
            "  font.set_text(s, 0.0, flags=flags)\n",
            "/usr/local/lib/python3.7/dist-packages/matplotlib/backends/backend_agg.py:183: RuntimeWarning: Glyph 141 missing from current font.\n",
            "  font.set_text(s, 0, flags=flags)\n"
          ]
        },
        {
          "output_type": "display_data",
          "data": {
            "image/png": "[encoded data removed]",
            "text/plain": [
              "<Figure size 432x288 with 1 Axes>"
            ]
          },
          "metadata": {
            "needs_background": "light"
          }
        }
      ]
    },
    {
      "cell_type": "code",
      "metadata": {
        "colab": {
          "base_uri": "https://localhost:8080/",
          "height": 417
        },
        "id": "J-6NxO3HdgNF",
        "outputId": "d20980fd-4313-403d-b9df-841da1e33467"
      },
      "source": [
        "dadosx = dados[dados['Passageiros']<300]\n",
        "dadosx"
      ],
      "execution_count": null,
      "outputs": [
        {
          "output_type": "execute_result",
          "data": {
            "text/html": [
              "<div>\n",
              "<style scoped>\n",
              "    .dataframe tbody tr th:only-of-type {\n",
              "        vertical-align: middle;\n",
              "    }\n",
              "\n",
              "    .dataframe tbody tr th {\n",
              "        vertical-align: top;\n",
              "    }\n",
              "\n",
              "    .dataframe thead th {\n",
              "        text-align: right;\n",
              "    }\n",
              "</style>\n",
              "<table border=\"1\" class=\"dataframe\">\n",
              "  <thead>\n",
              "    <tr style=\"text-align: right;\">\n",
              "      <th></th>\n",
              "      <th>Ano</th>\n",
              "      <th>MÃªs</th>\n",
              "      <th>Empresa (nome)</th>\n",
              "      <th>Empresa (sigla)</th>\n",
              "      <th>Empresa (pais)</th>\n",
              "      <th>Natureza</th>\n",
              "      <th>Passageiros</th>\n",
              "      <th>carga e correio (kg),</th>\n",
              "    </tr>\n",
              "  </thead>\n",
              "  <tbody>\n",
              "    <tr>\n",
              "      <th>5</th>\n",
              "      <td>2019</td>\n",
              "      <td>1.0</td>\n",
              "      <td>AMERISTAR AIR CARGO</td>\n",
              "      <td>AJI</td>\n",
              "      <td>ESTADOS UNIDOS DA AMÃ‰RICA</td>\n",
              "      <td>INTERNACIONAL</td>\n",
              "      <td>23.0</td>\n",
              "      <td>0</td>\n",
              "    </tr>\n",
              "    <tr>\n",
              "      <th>16</th>\n",
              "      <td>2019</td>\n",
              "      <td>1.0</td>\n",
              "      <td>TRANSPORTES AEREOS BOLIVIANOS</td>\n",
              "      <td>BOL</td>\n",
              "      <td>BOLÃVIA</td>\n",
              "      <td>INTERNACIONAL</td>\n",
              "      <td>0.0</td>\n",
              "      <td>60138</td>\n",
              "    </tr>\n",
              "    <tr>\n",
              "      <th>20</th>\n",
              "      <td>2019</td>\n",
              "      <td>1.0</td>\n",
              "      <td>CARGOLUX AIRLINES INTERNATIONAL S/A</td>\n",
              "      <td>CLX</td>\n",
              "      <td>LUXEMBURGO</td>\n",
              "      <td>INTERNACIONAL</td>\n",
              "      <td>0.0</td>\n",
              "      <td>3628227</td>\n",
              "    </tr>\n",
              "    <tr>\n",
              "      <th>26</th>\n",
              "      <td>2019</td>\n",
              "      <td>1.0</td>\n",
              "      <td>DIVI DIVI AIR</td>\n",
              "      <td>DVR</td>\n",
              "      <td>CURAÃ‡AO</td>\n",
              "      <td>INTERNACIONAL</td>\n",
              "      <td>213.0</td>\n",
              "      <td>0</td>\n",
              "    </tr>\n",
              "    <tr>\n",
              "      <th>29</th>\n",
              "      <td>2019</td>\n",
              "      <td>1.0</td>\n",
              "      <td>FEDEX - FEDERAL EXPRESS CORPORATION</td>\n",
              "      <td>FDX</td>\n",
              "      <td>ESTADOS UNIDOS DA AMÃ‰RICA</td>\n",
              "      <td>INTERNACIONAL</td>\n",
              "      <td>0.0</td>\n",
              "      <td>1037784</td>\n",
              "    </tr>\n",
              "    <tr>\n",
              "      <th>...</th>\n",
              "      <td>...</td>\n",
              "      <td>...</td>\n",
              "      <td>...</td>\n",
              "      <td>...</td>\n",
              "      <td>...</td>\n",
              "      <td>...</td>\n",
              "      <td>...</td>\n",
              "      <td>...</td>\n",
              "    </tr>\n",
              "    <tr>\n",
              "      <th>1653</th>\n",
              "      <td>2020</td>\n",
              "      <td>12.0</td>\n",
              "      <td>TAMPA CARGO S.A.</td>\n",
              "      <td>TPA</td>\n",
              "      <td>COLÃ”MBIA</td>\n",
              "      <td>INTERNACIONAL</td>\n",
              "      <td>0.0</td>\n",
              "      <td>2465279</td>\n",
              "    </tr>\n",
              "    <tr>\n",
              "      <th>1654</th>\n",
              "      <td>2020</td>\n",
              "      <td>12.0</td>\n",
              "      <td>TOTAL LINHAS AÃ‰REAS S.A.</td>\n",
              "      <td>TTL</td>\n",
              "      <td>BRASIL</td>\n",
              "      <td>DOMÃ‰STICA</td>\n",
              "      <td>0.0</td>\n",
              "      <td>1723736</td>\n",
              "    </tr>\n",
              "    <tr>\n",
              "      <th>1657</th>\n",
              "      <td>2020</td>\n",
              "      <td>12.0</td>\n",
              "      <td>UKRAINE AIR ALLIANCE AIRLINES</td>\n",
              "      <td>UKL</td>\n",
              "      <td>UCRÃ‚NIA</td>\n",
              "      <td>INTERNACIONAL</td>\n",
              "      <td>0.0</td>\n",
              "      <td>14168</td>\n",
              "    </tr>\n",
              "    <tr>\n",
              "      <th>1658</th>\n",
              "      <td>2020</td>\n",
              "      <td>12.0</td>\n",
              "      <td>UPS - UNITED PARCEL SERVICE CO.</td>\n",
              "      <td>UPS</td>\n",
              "      <td>ESTADOS UNIDOS DA AMÃ‰RICA</td>\n",
              "      <td>INTERNACIONAL</td>\n",
              "      <td>0.0</td>\n",
              "      <td>2031978</td>\n",
              "    </tr>\n",
              "    <tr>\n",
              "      <th>1659</th>\n",
              "      <td>2020</td>\n",
              "      <td>12.0</td>\n",
              "      <td>VOLGA DNEPR AIRLINES</td>\n",
              "      <td>VDA</td>\n",
              "      <td>RÃšSSIA</td>\n",
              "      <td>INTERNACIONAL</td>\n",
              "      <td>0.0</td>\n",
              "      <td>46871</td>\n",
              "    </tr>\n",
              "  </tbody>\n",
              "</table>\n",
              "<p>569 rows × 8 columns</p>\n",
              "</div>"
            ],
            "text/plain": [
              "       Ano  MÃªs  ... Passageiros carga e correio (kg),\n",
              "5     2019   1.0  ...        23.0                     0\n",
              "16    2019   1.0  ...         0.0                 60138\n",
              "20    2019   1.0  ...         0.0               3628227\n",
              "26    2019   1.0  ...       213.0                     0\n",
              "29    2019   1.0  ...         0.0               1037784\n",
              "...    ...   ...  ...         ...                   ...\n",
              "1653  2020  12.0  ...         0.0               2465279\n",
              "1654  2020  12.0  ...         0.0               1723736\n",
              "1657  2020  12.0  ...         0.0                 14168\n",
              "1658  2020  12.0  ...         0.0               2031978\n",
              "1659  2020  12.0  ...         0.0                 46871\n",
              "\n",
              "[569 rows x 8 columns]"
            ]
          },
          "metadata": {},
          "execution_count": 7
        }
      ]
    },
    {
      "cell_type": "code",
      "metadata": {
        "colab": {
          "base_uri": "https://localhost:8080/",
          "height": 296
        },
        "id": "GYyzfMaveLnb",
        "outputId": "ef3a294f-788a-4ac5-da5b-649efd0f0bb8"
      },
      "source": [
        "sns.boxplot(data=dadosx,x=\"Passageiros\",y='Ano')"
      ],
      "execution_count": null,
      "outputs": [
        {
          "output_type": "execute_result",
          "data": {
            "text/plain": [
              "<matplotlib.axes._subplots.AxesSubplot at 0x7fe05d1fc290>"
            ]
          },
          "metadata": {},
          "execution_count": 8
        },
        {
          "output_type": "display_data",
          "data": {
            "image/png": "[encoded data removed]",
            "text/plain": [
              "<Figure size 432x288 with 1 Axes>"
            ]
          },
          "metadata": {
            "needs_background": "light"
          }
        }
      ]
    }
  ]
}