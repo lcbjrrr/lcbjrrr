{
  "nbformat": 4,
  "nbformat_minor": 0,
  "metadata": {
    "colab": {
      "name": "AP2.ipynb",
      "provenance": [],
      "collapsed_sections": []
    },
    "kernelspec": {
      "name": "python3",
      "display_name": "Python 3"
    },
    "language_info": {
      "name": "python"
    }
  },
  "cells": [
    {
      "cell_type": "code",
      "metadata": {
        "id": "aqy_DuDjUHu5"
      },
      "source": [
        ""
      ],
      "execution_count": null,
      "outputs": []
    },
    {
      "cell_type": "code",
      "metadata": {
        "colab": {
          "base_uri": "https://localhost:8080/"
        },
        "id": "lp0cUs_jUJ1e",
        "outputId": "2602ae43-bba9-4af6-8d59-4c27061804a7"
      },
      "source": [
        "from google.colab import drive\n",
        "drive.mount(\"/content/drive\")"
      ],
      "execution_count": null,
      "outputs": [
        {
          "output_type": "stream",
          "name": "stdout",
          "text": [
            "Mounted at /content/drive\n"
          ]
        }
      ]
    },
    {
      "cell_type": "code",
      "metadata": {
        "colab": {
          "base_uri": "https://localhost:8080/",
          "height": 417
        },
        "id": "zW9qf4PIUe1p",
        "outputId": "e8a0e94d-5e94-4ab3-9aad-0130cb642586"
      },
      "source": [
        "import pandas as pd\n",
        "dados = pd.read_csv(\"/content/drive/My Drive/Base_de_dados_programacao_xl - Base_de_dok.csv\")\n",
        "dados"
      ],
      "execution_count": null,
      "outputs": [
        {
          "output_type": "execute_result",
          "data": {
            "text/html": [
              "<div>\n",
              "<style scoped>\n",
              "    .dataframe tbody tr th:only-of-type {\n",
              "        vertical-align: middle;\n",
              "    }\n",
              "\n",
              "    .dataframe tbody tr th {\n",
              "        vertical-align: top;\n",
              "    }\n",
              "\n",
              "    .dataframe thead th {\n",
              "        text-align: right;\n",
              "    }\n",
              "</style>\n",
              "<table border=\"1\" class=\"dataframe\">\n",
              "  <thead>\n",
              "    <tr style=\"text-align: right;\">\n",
              "      <th></th>\n",
              "      <th>Ano</th>\n",
              "      <th>MÃªs</th>\n",
              "      <th>Empresa (nome)</th>\n",
              "      <th>Empresa (sigla)</th>\n",
              "      <th>Empresa (pais)</th>\n",
              "      <th>Natureza</th>\n",
              "      <th>Passageiros</th>\n",
              "      <th>carga e correio (kg),</th>\n",
              "    </tr>\n",
              "  </thead>\n",
              "  <tbody>\n",
              "    <tr>\n",
              "      <th>0</th>\n",
              "      <td>2019</td>\n",
              "      <td>1.0</td>\n",
              "      <td>AIGLE AZUR</td>\n",
              "      <td>AAF</td>\n",
              "      <td>FRANÃ‡A</td>\n",
              "      <td>INTERNACIONAL</td>\n",
              "      <td>7169.0</td>\n",
              "      <td>126460</td>\n",
              "    </tr>\n",
              "    <tr>\n",
              "      <th>1</th>\n",
              "      <td>2019</td>\n",
              "      <td>1.0</td>\n",
              "      <td>AMERICAN AIRLINES,INC.</td>\n",
              "      <td>AAL</td>\n",
              "      <td>ESTADOS UNIDOS DA AMÃ‰RICA</td>\n",
              "      <td>INTERNACIONAL</td>\n",
              "      <td>132819.0</td>\n",
              "      <td>3254526</td>\n",
              "    </tr>\n",
              "    <tr>\n",
              "      <th>2</th>\n",
              "      <td>2019</td>\n",
              "      <td>1.0</td>\n",
              "      <td>AIR CANADA</td>\n",
              "      <td>ACA</td>\n",
              "      <td>CANADÃ</td>\n",
              "      <td>INTERNACIONAL</td>\n",
              "      <td>25586.0</td>\n",
              "      <td>460667</td>\n",
              "    </tr>\n",
              "    <tr>\n",
              "      <th>3</th>\n",
              "      <td>2019</td>\n",
              "      <td>1.0</td>\n",
              "      <td>AIR EUROPA LINEAS AEREAS SOCIEDAD ANONIMA</td>\n",
              "      <td>AEA</td>\n",
              "      <td>ESPANHA</td>\n",
              "      <td>INTERNACIONAL</td>\n",
              "      <td>25011.0</td>\n",
              "      <td>594884</td>\n",
              "    </tr>\n",
              "    <tr>\n",
              "      <th>4</th>\n",
              "      <td>2019</td>\n",
              "      <td>1.0</td>\n",
              "      <td>SOCIÃ‰TÃ‰ AIR FRANCE</td>\n",
              "      <td>AFR</td>\n",
              "      <td>FRANÃ‡A</td>\n",
              "      <td>INTERNACIONAL</td>\n",
              "      <td>64770.0</td>\n",
              "      <td>1676283</td>\n",
              "    </tr>\n",
              "    <tr>\n",
              "      <th>...</th>\n",
              "      <td>...</td>\n",
              "      <td>...</td>\n",
              "      <td>...</td>\n",
              "      <td>...</td>\n",
              "      <td>...</td>\n",
              "      <td>...</td>\n",
              "      <td>...</td>\n",
              "      <td>...</td>\n",
              "    </tr>\n",
              "    <tr>\n",
              "      <th>1655</th>\n",
              "      <td>2020</td>\n",
              "      <td>12.0</td>\n",
              "      <td>EMIRATES</td>\n",
              "      <td>UAE</td>\n",
              "      <td>EMIRADOS ÃRABES UNIDOS</td>\n",
              "      <td>INTERNACIONAL</td>\n",
              "      <td>7860.0</td>\n",
              "      <td>2525779</td>\n",
              "    </tr>\n",
              "    <tr>\n",
              "      <th>1656</th>\n",
              "      <td>2020</td>\n",
              "      <td>12.0</td>\n",
              "      <td>UNITED AIRLINES,INC</td>\n",
              "      <td>UAL</td>\n",
              "      <td>ESTADOS UNIDOS DA AMÃ‰RICA</td>\n",
              "      <td>INTERNACIONAL</td>\n",
              "      <td>20990.0</td>\n",
              "      <td>2301634</td>\n",
              "    </tr>\n",
              "    <tr>\n",
              "      <th>1657</th>\n",
              "      <td>2020</td>\n",
              "      <td>12.0</td>\n",
              "      <td>UKRAINE AIR ALLIANCE AIRLINES</td>\n",
              "      <td>UKL</td>\n",
              "      <td>UCRÃ‚NIA</td>\n",
              "      <td>INTERNACIONAL</td>\n",
              "      <td>0.0</td>\n",
              "      <td>14168</td>\n",
              "    </tr>\n",
              "    <tr>\n",
              "      <th>1658</th>\n",
              "      <td>2020</td>\n",
              "      <td>12.0</td>\n",
              "      <td>UPS - UNITED PARCEL SERVICE CO.</td>\n",
              "      <td>UPS</td>\n",
              "      <td>ESTADOS UNIDOS DA AMÃ‰RICA</td>\n",
              "      <td>INTERNACIONAL</td>\n",
              "      <td>0.0</td>\n",
              "      <td>2031978</td>\n",
              "    </tr>\n",
              "    <tr>\n",
              "      <th>1659</th>\n",
              "      <td>2020</td>\n",
              "      <td>12.0</td>\n",
              "      <td>VOLGA DNEPR AIRLINES</td>\n",
              "      <td>VDA</td>\n",
              "      <td>RÃšSSIA</td>\n",
              "      <td>INTERNACIONAL</td>\n",
              "      <td>0.0</td>\n",
              "      <td>46871</td>\n",
              "    </tr>\n",
              "  </tbody>\n",
              "</table>\n",
              "<p>1660 rows × 8 columns</p>\n",
              "</div>"
            ],
            "text/plain": [
              "       Ano  MÃªs  ... Passageiros carga e correio (kg),\n",
              "0     2019   1.0  ...      7169.0                126460\n",
              "1     2019   1.0  ...    132819.0               3254526\n",
              "2     2019   1.0  ...     25586.0                460667\n",
              "3     2019   1.0  ...     25011.0                594884\n",
              "4     2019   1.0  ...     64770.0               1676283\n",
              "...    ...   ...  ...         ...                   ...\n",
              "1655  2020  12.0  ...      7860.0               2525779\n",
              "1656  2020  12.0  ...     20990.0               2301634\n",
              "1657  2020  12.0  ...         0.0                 14168\n",
              "1658  2020  12.0  ...         0.0               2031978\n",
              "1659  2020  12.0  ...         0.0                 46871\n",
              "\n",
              "[1660 rows x 8 columns]"
            ]
          },
          "metadata": {},
          "execution_count": 5
        }
      ]
    },
    {
      "cell_type": "code",
      "metadata": {
        "colab": {
          "base_uri": "https://localhost:8080/",
          "height": 354
        },
        "id": "am5CoZYDVx56",
        "outputId": "5bac6c58-8da3-4a25-e126-7a0c9ccb38c6"
      },
      "source": [
        "display(dados.dtypes)\n",
        "display(dados.head())"
      ],
      "execution_count": null,
      "outputs": [
        {
          "output_type": "display_data",
          "data": {
            "text/plain": [
              "Ano                       object\n",
              "MÃªs                     float64\n",
              "Empresa (nome)            object\n",
              "Empresa (sigla)           object\n",
              "Empresa (pais)            object\n",
              "Natureza                  object\n",
              "Passageiros              float64\n",
              "carga e correio (kg),     object\n",
              "dtype: object"
            ]
          },
          "metadata": {}
        },
        {
          "output_type": "display_data",
          "data": {
            "text/html": [
              "<div>\n",
              "<style scoped>\n",
              "    .dataframe tbody tr th:only-of-type {\n",
              "        vertical-align: middle;\n",
              "    }\n",
              "\n",
              "    .dataframe tbody tr th {\n",
              "        vertical-align: top;\n",
              "    }\n",
              "\n",
              "    .dataframe thead th {\n",
              "        text-align: right;\n",
              "    }\n",
              "</style>\n",
              "<table border=\"1\" class=\"dataframe\">\n",
              "  <thead>\n",
              "    <tr style=\"text-align: right;\">\n",
              "      <th></th>\n",
              "      <th>Ano</th>\n",
              "      <th>MÃªs</th>\n",
              "      <th>Empresa (nome)</th>\n",
              "      <th>Empresa (sigla)</th>\n",
              "      <th>Empresa (pais)</th>\n",
              "      <th>Natureza</th>\n",
              "      <th>Passageiros</th>\n",
              "      <th>carga e correio (kg),</th>\n",
              "    </tr>\n",
              "  </thead>\n",
              "  <tbody>\n",
              "    <tr>\n",
              "      <th>0</th>\n",
              "      <td>2019</td>\n",
              "      <td>1.0</td>\n",
              "      <td>AIGLE AZUR</td>\n",
              "      <td>AAF</td>\n",
              "      <td>FRANÃ‡A</td>\n",
              "      <td>INTERNACIONAL</td>\n",
              "      <td>7169.0</td>\n",
              "      <td>126460</td>\n",
              "    </tr>\n",
              "    <tr>\n",
              "      <th>1</th>\n",
              "      <td>2019</td>\n",
              "      <td>1.0</td>\n",
              "      <td>AMERICAN AIRLINES,INC.</td>\n",
              "      <td>AAL</td>\n",
              "      <td>ESTADOS UNIDOS DA AMÃ‰RICA</td>\n",
              "      <td>INTERNACIONAL</td>\n",
              "      <td>132819.0</td>\n",
              "      <td>3254526</td>\n",
              "    </tr>\n",
              "    <tr>\n",
              "      <th>2</th>\n",
              "      <td>2019</td>\n",
              "      <td>1.0</td>\n",
              "      <td>AIR CANADA</td>\n",
              "      <td>ACA</td>\n",
              "      <td>CANADÃ</td>\n",
              "      <td>INTERNACIONAL</td>\n",
              "      <td>25586.0</td>\n",
              "      <td>460667</td>\n",
              "    </tr>\n",
              "    <tr>\n",
              "      <th>3</th>\n",
              "      <td>2019</td>\n",
              "      <td>1.0</td>\n",
              "      <td>AIR EUROPA LINEAS AEREAS SOCIEDAD ANONIMA</td>\n",
              "      <td>AEA</td>\n",
              "      <td>ESPANHA</td>\n",
              "      <td>INTERNACIONAL</td>\n",
              "      <td>25011.0</td>\n",
              "      <td>594884</td>\n",
              "    </tr>\n",
              "    <tr>\n",
              "      <th>4</th>\n",
              "      <td>2019</td>\n",
              "      <td>1.0</td>\n",
              "      <td>SOCIÃ‰TÃ‰ AIR FRANCE</td>\n",
              "      <td>AFR</td>\n",
              "      <td>FRANÃ‡A</td>\n",
              "      <td>INTERNACIONAL</td>\n",
              "      <td>64770.0</td>\n",
              "      <td>1676283</td>\n",
              "    </tr>\n",
              "  </tbody>\n",
              "</table>\n",
              "</div>"
            ],
            "text/plain": [
              "    Ano  MÃªs  ... Passageiros carga e correio (kg),\n",
              "0  2019   1.0  ...      7169.0                126460\n",
              "1  2019   1.0  ...    132819.0               3254526\n",
              "2  2019   1.0  ...     25586.0                460667\n",
              "3  2019   1.0  ...     25011.0                594884\n",
              "4  2019   1.0  ...     64770.0               1676283\n",
              "\n",
              "[5 rows x 8 columns]"
            ]
          },
          "metadata": {}
        }
      ]
    },
    {
      "cell_type": "code",
      "metadata": {
        "colab": {
          "base_uri": "https://localhost:8080/"
        },
        "id": "D6T6OgNcVVCa",
        "outputId": "03506a65-6eb6-4423-c754-13f1dc5dde7c"
      },
      "source": [
        "dados.info()\n",
        "print('_'*40)"
      ],
      "execution_count": null,
      "outputs": [
        {
          "output_type": "stream",
          "name": "stdout",
          "text": [
            "<class 'pandas.core.frame.DataFrame'>\n",
            "RangeIndex: 1660 entries, 0 to 1659\n",
            "Data columns (total 8 columns):\n",
            " #   Column                 Non-Null Count  Dtype  \n",
            "---  ------                 --------------  -----  \n",
            " 0   Ano                    1660 non-null   object \n",
            " 1   MÃªs                   1657 non-null   float64\n",
            " 2   Empresa (nome)         1657 non-null   object \n",
            " 3   Empresa (sigla)        1657 non-null   object \n",
            " 4   Empresa (pais)         1657 non-null   object \n",
            " 5   Natureza               1657 non-null   object \n",
            " 6   Passageiros            1656 non-null   float64\n",
            " 7   carga e correio (kg),  1657 non-null   object \n",
            "dtypes: float64(2), object(6)\n",
            "memory usage: 103.9+ KB\n",
            "________________________________________\n"
          ]
        }
      ]
    },
    {
      "cell_type": "markdown",
      "metadata": {
        "id": "9I0g3sryWmjq"
      },
      "source": [
        "Na primeira sumarização foi feito um agrupamento dos dados da quantidade de passageiros transportados a cada mês."
      ]
    },
    {
      "cell_type": "code",
      "metadata": {
        "colab": {
          "base_uri": "https://localhost:8080/",
          "height": 450
        },
        "id": "T9RJxoo4vw27",
        "outputId": "6d71cab4-5f55-47a5-dbc5-1a30c067b1f7"
      },
      "source": [
        "dados.groupby('MÃªs').sum()"
      ],
      "execution_count": null,
      "outputs": [
        {
          "output_type": "execute_result",
          "data": {
            "text/html": [
              "<div>\n",
              "<style scoped>\n",
              "    .dataframe tbody tr th:only-of-type {\n",
              "        vertical-align: middle;\n",
              "    }\n",
              "\n",
              "    .dataframe tbody tr th {\n",
              "        vertical-align: top;\n",
              "    }\n",
              "\n",
              "    .dataframe thead th {\n",
              "        text-align: right;\n",
              "    }\n",
              "</style>\n",
              "<table border=\"1\" class=\"dataframe\">\n",
              "  <thead>\n",
              "    <tr style=\"text-align: right;\">\n",
              "      <th></th>\n",
              "      <th>Passageiros</th>\n",
              "    </tr>\n",
              "    <tr>\n",
              "      <th>MÃªs</th>\n",
              "      <th></th>\n",
              "    </tr>\n",
              "  </thead>\n",
              "  <tbody>\n",
              "    <tr>\n",
              "      <th>1.0</th>\n",
              "      <td>22874692.0</td>\n",
              "    </tr>\n",
              "    <tr>\n",
              "      <th>2.0</th>\n",
              "      <td>19022467.0</td>\n",
              "    </tr>\n",
              "    <tr>\n",
              "      <th>3.0</th>\n",
              "      <td>16025770.0</td>\n",
              "    </tr>\n",
              "    <tr>\n",
              "      <th>4.0</th>\n",
              "      <td>9652948.0</td>\n",
              "    </tr>\n",
              "    <tr>\n",
              "      <th>5.0</th>\n",
              "      <td>9627358.0</td>\n",
              "    </tr>\n",
              "    <tr>\n",
              "      <th>6.0</th>\n",
              "      <td>9846051.0</td>\n",
              "    </tr>\n",
              "    <tr>\n",
              "      <th>7.0</th>\n",
              "      <td>12462273.0</td>\n",
              "    </tr>\n",
              "    <tr>\n",
              "      <th>8.0</th>\n",
              "      <td>12252752.0</td>\n",
              "    </tr>\n",
              "    <tr>\n",
              "      <th>9.0</th>\n",
              "      <td>12923151.0</td>\n",
              "    </tr>\n",
              "    <tr>\n",
              "      <th>10.0</th>\n",
              "      <td>14550694.0</td>\n",
              "    </tr>\n",
              "    <tr>\n",
              "      <th>11.0</th>\n",
              "      <td>14930660.0</td>\n",
              "    </tr>\n",
              "    <tr>\n",
              "      <th>12.0</th>\n",
              "      <td>17003486.0</td>\n",
              "    </tr>\n",
              "  </tbody>\n",
              "</table>\n",
              "</div>"
            ],
            "text/plain": [
              "      Passageiros\n",
              "MÃªs             \n",
              "1.0    22874692.0\n",
              "2.0    19022467.0\n",
              "3.0    16025770.0\n",
              "4.0     9652948.0\n",
              "5.0     9627358.0\n",
              "6.0     9846051.0\n",
              "7.0    12462273.0\n",
              "8.0    12252752.0\n",
              "9.0    12923151.0\n",
              "10.0   14550694.0\n",
              "11.0   14930660.0\n",
              "12.0   17003486.0"
            ]
          },
          "metadata": {},
          "execution_count": 7
        }
      ]
    },
    {
      "cell_type": "markdown",
      "metadata": {
        "id": "XgB9S7idZTla"
      },
      "source": [
        "Nessa sumarização foi feito o agrupamento da Natureza, sendo separado em Internacional e Doméstico, sendo somado todos as vezes que essas variáveis aparecem."
      ]
    },
    {
      "cell_type": "code",
      "metadata": {
        "colab": {
          "base_uri": "https://localhost:8080/"
        },
        "id": "CWd9xcs7NzGS",
        "outputId": "f65484b8-c3e6-40fa-8522-b20a3045f1b4"
      },
      "source": [
        "dados.groupby('Natureza').size()"
      ],
      "execution_count": null,
      "outputs": [
        {
          "output_type": "execute_result",
          "data": {
            "text/plain": [
              "Natureza\n",
              "DOMÃ‰STICA        268\n",
              "INTERNACIONAL    1389\n",
              "dtype: int64"
            ]
          },
          "metadata": {},
          "execution_count": 40
        }
      ]
    },
    {
      "cell_type": "code",
      "metadata": {
        "colab": {
          "base_uri": "https://localhost:8080/"
        },
        "id": "TVkTqv6rQXCU",
        "outputId": "14d109b9-2b8e-4055-9049-d17d7e42cff7"
      },
      "source": [
        "len(dados[dados.Natureza=='INTERNACIONAL'])"
      ],
      "execution_count": null,
      "outputs": [
        {
          "output_type": "execute_result",
          "data": {
            "text/plain": [
              "1389"
            ]
          },
          "metadata": {},
          "execution_count": 22
        }
      ]
    },
    {
      "cell_type": "code",
      "metadata": {
        "colab": {
          "base_uri": "https://localhost:8080/"
        },
        "id": "IwLegmK4Qxt-",
        "outputId": "8db4477b-72e4-4d11-8eba-6991d4dfda74"
      },
      "source": [
        "len(dados[dados.Natureza=='DOMÃ‰STICA'])"
      ],
      "execution_count": null,
      "outputs": [
        {
          "output_type": "execute_result",
          "data": {
            "text/plain": [
              "268"
            ]
          },
          "metadata": {},
          "execution_count": 23
        }
      ]
    },
    {
      "cell_type": "code",
      "metadata": {
        "colab": {
          "base_uri": "https://localhost:8080/",
          "height": 80
        },
        "id": "RTvRbk6pRYFV",
        "outputId": "369d1732-4e2c-46d1-e122-56fa8ddf5ad3"
      },
      "source": [
        "da = pd.Series({'INTERNACIONAL':1389,'DOMÃ‰STICA':268})\n",
        "df = pd.DataFrame([da])\n",
        "df"
      ],
      "execution_count": null,
      "outputs": [
        {
          "output_type": "execute_result",
          "data": {
            "text/html": [
              "<div>\n",
              "<style scoped>\n",
              "    .dataframe tbody tr th:only-of-type {\n",
              "        vertical-align: middle;\n",
              "    }\n",
              "\n",
              "    .dataframe tbody tr th {\n",
              "        vertical-align: top;\n",
              "    }\n",
              "\n",
              "    .dataframe thead th {\n",
              "        text-align: right;\n",
              "    }\n",
              "</style>\n",
              "<table border=\"1\" class=\"dataframe\">\n",
              "  <thead>\n",
              "    <tr style=\"text-align: right;\">\n",
              "      <th></th>\n",
              "      <th>INTERNACIONAL</th>\n",
              "      <th>DOMÃ‰STICA</th>\n",
              "    </tr>\n",
              "  </thead>\n",
              "  <tbody>\n",
              "    <tr>\n",
              "      <th>0</th>\n",
              "      <td>1389</td>\n",
              "      <td>268</td>\n",
              "    </tr>\n",
              "  </tbody>\n",
              "</table>\n",
              "</div>"
            ],
            "text/plain": [
              "   INTERNACIONAL  DOMÃ‰STICA\n",
              "0           1389         268"
            ]
          },
          "metadata": {},
          "execution_count": 37
        }
      ]
    },
    {
      "cell_type": "markdown",
      "metadata": {
        "id": "UAaErLupbUdL"
      },
      "source": [
        "Nessa sumarização foi agrupado o Ano, sendo somado o de 2019 e 2020, sendo somado todos as vezes que essas variáveis aparecem."
      ]
    },
    {
      "cell_type": "code",
      "metadata": {
        "colab": {
          "base_uri": "https://localhost:8080/"
        },
        "id": "s51czIaOTj2u",
        "outputId": "7c819368-829a-46b0-c34c-ee8cba4f2337"
      },
      "source": [
        "dados.groupby('Ano').size()"
      ],
      "execution_count": null,
      "outputs": [
        {
          "output_type": "execute_result",
          "data": {
            "text/plain": [
              "Ano\n",
              "2019                                                                                   877\n",
              "2019;4;\"LÃNEAS AÃ‰REAS SURAMERICANAS \"\"LAS\"\"\";LAU;COLÃ”MBIA;INTERNACIONAL;0;46324,      1\n",
              "2020                                                                                   780\n",
              "2020;2;\"LÃNEAS AÃ‰REAS SURAMERICANAS \"\"LAS\"\"\";LAU;COLÃ”MBIA;INTERNACIONAL;0;32802,      1\n",
              "2020;3;\"LÃNEAS AÃ‰REAS SURAMERICANAS \"\"LAS\"\"\";LAU;COLÃ”MBIA;INTERNACIONAL;0;43736,      1\n",
              "dtype: int64"
            ]
          },
          "metadata": {},
          "execution_count": 32
        }
      ]
    },
    {
      "cell_type": "code",
      "metadata": {
        "colab": {
          "base_uri": "https://localhost:8080/",
          "height": 80
        },
        "id": "MOSEY9lOU8Ir",
        "outputId": "4e47420d-6172-4f95-ed7e-850f2355671d"
      },
      "source": [
        "da = pd.Series({'2019':878,'2020':782})\n",
        "df = pd.DataFrame([da])\n",
        "df"
      ],
      "execution_count": null,
      "outputs": [
        {
          "output_type": "execute_result",
          "data": {
            "text/html": [
              "<div>\n",
              "<style scoped>\n",
              "    .dataframe tbody tr th:only-of-type {\n",
              "        vertical-align: middle;\n",
              "    }\n",
              "\n",
              "    .dataframe tbody tr th {\n",
              "        vertical-align: top;\n",
              "    }\n",
              "\n",
              "    .dataframe thead th {\n",
              "        text-align: right;\n",
              "    }\n",
              "</style>\n",
              "<table border=\"1\" class=\"dataframe\">\n",
              "  <thead>\n",
              "    <tr style=\"text-align: right;\">\n",
              "      <th></th>\n",
              "      <th>2019</th>\n",
              "      <th>2020</th>\n",
              "    </tr>\n",
              "  </thead>\n",
              "  <tbody>\n",
              "    <tr>\n",
              "      <th>0</th>\n",
              "      <td>878</td>\n",
              "      <td>782</td>\n",
              "    </tr>\n",
              "  </tbody>\n",
              "</table>\n",
              "</div>"
            ],
            "text/plain": [
              "   2019  2020\n",
              "0   878   782"
            ]
          },
          "metadata": {},
          "execution_count": 38
        }
      ]
    }
  ]
}