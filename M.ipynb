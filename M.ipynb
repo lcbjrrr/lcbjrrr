{
  "nbformat": 4,
  "nbformat_minor": 0,
  "metadata": {
    "colab": {
      "name": "M.ipynb",
      "provenance": [],
      "include_colab_link": true
    },
    "kernelspec": {
      "name": "python3",
      "display_name": "Python 3"
    }
  },
  "cells": [
    {
      "cell_type": "markdown",
      "metadata": {
        "id": "view-in-github",
        "colab_type": "text"
      },
      "source": [
        "<a href=\"https://colab.research.google.com/github/lcbjrrr/lcbjrrr/blob/master/M.ipynb\" target=\"_parent\"><img src=\"https://colab.research.google.com/assets/colab-badge.svg\" alt=\"Open In Colab\"/></a>"
      ]
    },
    {
      "cell_type": "code",
      "metadata": {
        "id": "zJR3QmLBsSZa",
        "colab_type": "code",
        "colab": {}
      },
      "source": [
        "!apt install octave"
      ],
      "execution_count": 0,
      "outputs": []
    },
    {
      "cell_type": "code",
      "metadata": {
        "id": "rWK9wd7Qsc2U",
        "colab_type": "code",
        "outputId": "888b2301-f818-41e1-bc24-1df22753a2fc",
        "colab": {
          "base_uri": "https://localhost:8080/",
          "height": 124
        }
      },
      "source": [
        " # Ao utilizar arquivos no Github nem precisa mapear (no caso do Matlab, se for ainda usar 'forca bruta' com %writefile, tambem nao)\n",
        " from google.colab import drive\n",
        " drive.mount('/content/drive')"
      ],
      "execution_count": 0,
      "outputs": [
        {
          "output_type": "stream",
          "text": [
            "Go to this URL in a browser: https://accounts.google.com/o/oauth2/auth?client_id=947318989803-6bn6qk8qdgf4n4g3pfee6491hc0brc4i.apps.googleusercontent.com&redirect_uri=urn%3aietf%3awg%3aoauth%3a2.0%3aoob&response_type=code&scope=email%20https%3a%2f%2fwww.googleapis.com%2fauth%2fdocs.test%20https%3a%2f%2fwww.googleapis.com%2fauth%2fdrive%20https%3a%2f%2fwww.googleapis.com%2fauth%2fdrive.photos.readonly%20https%3a%2f%2fwww.googleapis.com%2fauth%2fpeopleapi.readonly\n",
            "\n",
            "Enter your authorization code:\n",
            "··········\n",
            "Mounted at /content/drive\n"
          ],
          "name": "stdout"
        }
      ]
    },
    {
      "cell_type": "code",
      "metadata": {
        "id": "G9FVnK2AswW4",
        "colab_type": "code",
        "outputId": "a9497863-b1ca-4120-c356-4459fcc5453f",
        "colab": {
          "base_uri": "https://localhost:8080/",
          "height": 121
        }
      },
      "source": [
        "!octave '/content/drive/My Drive/IBMEC/Macro/ola.m'"
      ],
      "execution_count": 0,
      "outputs": [
        {
          "output_type": "stream",
          "text": [
            "octave: X11 DISPLAY environment variable not set\n",
            "octave: disabling GUI features\n",
            "x =  1\n",
            "y =  2\n",
            "z =  3\n",
            "z =  3\n"
          ],
          "name": "stdout"
        }
      ]
    },
    {
      "cell_type": "code",
      "metadata": {
        "id": "M_vy2fdu1D-d",
        "colab_type": "code",
        "outputId": "3f059e67-8217-4a63-a8f4-59da1233f558",
        "colab": {
          "base_uri": "https://localhost:8080/",
          "height": 141
        }
      },
      "source": [
        "!curl https://raw.githubusercontent.com/Grupo-de-Pesquisa-em-Macro-Aplicada/Ibmec-Pesquisa-Macro-Aplicada/master/ola.m > oi.m\n",
        "!more oi.m"
      ],
      "execution_count": 0,
      "outputs": [
        {
          "output_type": "stream",
          "text": [
            "  % Total    % Received % Xferd  Average Speed   Time    Time     Time  Current\n",
            "                                 Dload  Upload   Total   Spent    Left  Speed\n",
            "\r  0     0    0     0    0     0      0      0 --:--:-- --:--:-- --:--:--     0\r100    30  100    30    0     0    177      0 --:--:-- --:--:-- --:--:--   177\n",
            "x = 1\n",
            "y = 2\n",
            "z = x+y\n",
            "display(z)\n"
          ],
          "name": "stdout"
        }
      ]
    },
    {
      "cell_type": "code",
      "metadata": {
        "id": "yUGF1FjB1fel",
        "colab_type": "code",
        "outputId": "015ec38d-4f0b-40b1-afbe-d713d7cacfbd",
        "colab": {
          "base_uri": "https://localhost:8080/",
          "height": 123
        }
      },
      "source": [
        "!octave oi.m"
      ],
      "execution_count": 0,
      "outputs": [
        {
          "output_type": "stream",
          "text": [
            "octave: X11 DISPLAY environment variable not set\n",
            "octave: disabling GUI features\n",
            "x =  1\n",
            "y =  2\n",
            "z =  3\n",
            "z =  3\n"
          ],
          "name": "stdout"
        }
      ]
    },
    {
      "cell_type": "code",
      "metadata": {
        "id": "HxrRqtAttC2r",
        "colab_type": "code",
        "outputId": "bbdd8bb4-3705-43c3-899d-86912e010597",
        "colab": {
          "base_uri": "https://localhost:8080/",
          "height": 35
        }
      },
      "source": [
        "%%writefile alo.m\n",
        "x=10\n",
        "y=20\n",
        "z=x+y\n",
        "display(z)"
      ],
      "execution_count": 0,
      "outputs": [
        {
          "output_type": "stream",
          "text": [
            "Overwriting alo.m\n"
          ],
          "name": "stdout"
        }
      ]
    },
    {
      "cell_type": "code",
      "metadata": {
        "id": "L2qACD_ntQ9G",
        "colab_type": "code",
        "outputId": "8f20df22-7251-43a3-ffe7-33b7a8b04943",
        "colab": {
          "base_uri": "https://localhost:8080/",
          "height": 85
        }
      },
      "source": [
        "!octave 'alo.m'"
      ],
      "execution_count": 0,
      "outputs": [
        {
          "output_type": "stream",
          "text": [
            "octave: X11 DISPLAY environment variable not set\n",
            "octave: disabling GUI features\n",
            "error: no such file, '/content/alo.m'\n",
            "error: source: error sourcing file '/content/alo.m'\n"
          ],
          "name": "stdout"
        }
      ]
    }
  ]
}