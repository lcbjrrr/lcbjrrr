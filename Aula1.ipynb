{
  "nbformat": 4,
  "nbformat_minor": 0,
  "metadata": {
    "colab": {
      "name": "Aula1.ipynb",
      "provenance": [],
      "authorship_tag": "ABX9TyM1cw6mvXrG1Toh9uJ9hvka",
      "include_colab_link": true
    },
    "kernelspec": {
      "name": "python3",
      "display_name": "Python 3"
    }
  },
  "cells": [
    {
      "cell_type": "markdown",
      "metadata": {
        "id": "view-in-github",
        "colab_type": "text"
      },
      "source": [
        "<a href=\"https://colab.research.google.com/github/lcbjrrr/lcbjrrr/blob/master/Aula1.ipynb\" target=\"_parent\"><img src=\"https://colab.research.google.com/assets/colab-badge.svg\" alt=\"Open In Colab\"/></a>"
      ]
    },
    {
      "cell_type": "code",
      "metadata": {
        "id": "Qfg2gE7acwmd",
        "colab_type": "code",
        "colab": {
          "base_uri": "https://localhost:8080/",
          "height": 34
        },
        "outputId": "8b5879ae-3738-429c-d7db-748028d2c8cd"
      },
      "source": [
        "print('Ola Mundo')"
      ],
      "execution_count": 10,
      "outputs": [
        {
          "output_type": "stream",
          "text": [
            "Ola Mundo\n"
          ],
          "name": "stdout"
        }
      ]
    },
    {
      "cell_type": "code",
      "metadata": {
        "id": "sgbosrzOc8bt",
        "colab_type": "code",
        "colab": {
          "base_uri": "https://localhost:8080/",
          "height": 34
        },
        "outputId": "80223022-ea73-4ed7-9da7-91241a0994e8"
      },
      "source": [
        "5 * 3 % 2 + 7 / 4 - 1"
      ],
      "execution_count": 11,
      "outputs": [
        {
          "output_type": "execute_result",
          "data": {
            "text/plain": [
              "1.75"
            ]
          },
          "metadata": {
            "tags": []
          },
          "execution_count": 11
        }
      ]
    },
    {
      "cell_type": "code",
      "metadata": {
        "id": "m2LiJSicc8gn",
        "colab_type": "code",
        "colab": {
          "base_uri": "https://localhost:8080/",
          "height": 34
        },
        "outputId": "249cf8e6-f300-45a5-e0a1-07d7229f72a7"
      },
      "source": [
        "5 * 3 ** 2 + 7 * 4 + 1"
      ],
      "execution_count": 12,
      "outputs": [
        {
          "output_type": "execute_result",
          "data": {
            "text/plain": [
              "74"
            ]
          },
          "metadata": {
            "tags": []
          },
          "execution_count": 12
        }
      ]
    },
    {
      "cell_type": "code",
      "metadata": {
        "id": "SsY1C5RGc8ll",
        "colab_type": "code",
        "colab": {
          "base_uri": "https://localhost:8080/",
          "height": 34
        },
        "outputId": "e7ecddf5-71db-4d79-e6b2-093d53a86ddc"
      },
      "source": [
        "(12+ 5*(3/2+(2**5 -13)/3))"
      ],
      "execution_count": 13,
      "outputs": [
        {
          "output_type": "execute_result",
          "data": {
            "text/plain": [
              "51.166666666666664"
            ]
          },
          "metadata": {
            "tags": []
          },
          "execution_count": 13
        }
      ]
    },
    {
      "cell_type": "code",
      "metadata": {
        "id": "gsHmw3X7c8q0",
        "colab_type": "code",
        "colab": {
          "base_uri": "https://localhost:8080/",
          "height": 34
        },
        "outputId": "72d497c1-30ee-4158-e8e6-1cf280e84ab3"
      },
      "source": [
        "x=1\n",
        "y=2\n",
        "s=x+y\n",
        "print(s)"
      ],
      "execution_count": 14,
      "outputs": [
        {
          "output_type": "stream",
          "text": [
            "3\n"
          ],
          "name": "stdout"
        }
      ]
    },
    {
      "cell_type": "code",
      "metadata": {
        "id": "TWWK2ASXdSXF",
        "colab_type": "code",
        "colab": {}
      },
      "source": [
        "nota1 = 8\n",
        "nota2 = 6\n",
        "nota3 = 8.5\n",
        "Media = (nota1+nota2+nota3)/3"
      ],
      "execution_count": 15,
      "outputs": []
    },
    {
      "cell_type": "code",
      "metadata": {
        "id": "yOU8QwPNdNXP",
        "colab_type": "code",
        "colab": {}
      },
      "source": [
        "nota1 = 9 # int\n",
        "nota2 = 9.5 # float\n",
        "nome = 'Luiz' # string\n",
        "aprovado = (nota1 > 7) # bool"
      ],
      "execution_count": 16,
      "outputs": []
    },
    {
      "cell_type": "code",
      "metadata": {
        "id": "NDbBEz_FdOA-",
        "colab_type": "code",
        "colab": {
          "base_uri": "https://localhost:8080/",
          "height": 34
        },
        "outputId": "8f33c590-0081-4f90-e426-a87ae94fed2e"
      },
      "source": [
        "def somar(x,y):\n",
        "  s =x+y\n",
        "  return s\n",
        "\n",
        "ss = somar(1,2)\n",
        "print(ss)"
      ],
      "execution_count": 17,
      "outputs": [
        {
          "output_type": "stream",
          "text": [
            "3\n"
          ],
          "name": "stdout"
        }
      ]
    },
    {
      "cell_type": "code",
      "metadata": {
        "id": "NAl-7lyrdkku",
        "colab_type": "code",
        "colab": {
          "base_uri": "https://localhost:8080/",
          "height": 34
        },
        "outputId": "75bdaa04-7811-4aca-8422-883c564dcc7b"
      },
      "source": [
        "salario_bruto = 4500\n",
        "inss = 0.09\n",
        "desconto_inss = salario_bruto * inss\n",
        "salario_liquido = salario_bruto - desconto_inss\n",
        "\n",
        "vale_transporte = salario_bruto * 0.02\n",
        "salario_liquido = salario_bruto - desconto_inss - vale_transporte\n",
        "\n",
        "print (\"salario a receber:\", salario_liquido)"
      ],
      "execution_count": 18,
      "outputs": [
        {
          "output_type": "stream",
          "text": [
            "salario a receber: 4005.0\n"
          ],
          "name": "stdout"
        }
      ]
    },
    {
      "cell_type": "code",
      "metadata": {
        "id": "99DqAMDhdl8o",
        "colab_type": "code",
        "colab": {
          "base_uri": "https://localhost:8080/",
          "height": 34
        },
        "outputId": "cc0d30ca-14e7-4c52-9c1b-24f43c6dffee"
      },
      "source": [
        "def sal_liq(salario_bruto):\n",
        "  inss = 0.09\n",
        "  desconto_inss = salario_bruto * inss\n",
        "  salario_liquido = salario_bruto - desconto_inss\n",
        "\n",
        "  vale_transporte = salario_bruto * 0.02\n",
        "  salario_liquido = salario_bruto - desconto_inss - vale_transporte\n",
        "\n",
        "  return salario_liquido\n",
        "\n",
        "sl = sal_liq(4500)\n",
        "print(sl)"
      ],
      "execution_count": 19,
      "outputs": [
        {
          "output_type": "stream",
          "text": [
            "4005.0\n"
          ],
          "name": "stdout"
        }
      ]
    },
    {
      "cell_type": "code",
      "metadata": {
        "id": "9MUt52PudoK2",
        "colab_type": "code",
        "colab": {
          "base_uri": "https://localhost:8080/",
          "height": 51
        },
        "outputId": "e088c9b1-c618-4baf-f209-645339451fc6"
      },
      "source": [
        "def sal_liq(salario_bruto):\n",
        "  inss = 0.09\n",
        "  desconto_inss = salario_bruto * inss\n",
        "  salario_liquido = salario_bruto - desconto_inss\n",
        "\n",
        "  vale_transporte = salario_bruto * 0.02\n",
        "  salario_liquido = salario_bruto - desconto_inss - vale_transporte\n",
        "\n",
        "  return salario_liquido\n",
        "\n",
        "sb = input('Qual o salario bruto?')\n",
        "sb = float(sb)\n",
        "sl = sal_liq(sb)\n",
        "print(sl)"
      ],
      "execution_count": 20,
      "outputs": [
        {
          "output_type": "stream",
          "text": [
            "Qual o salario bruto?4500\n",
            "4005.0\n"
          ],
          "name": "stdout"
        }
      ]
    },
    {
      "cell_type": "markdown",
      "metadata": {
        "id": "9A8O54RxdrYn",
        "colab_type": "text"
      },
      "source": [
        "##EXERCICIOS\n"
      ]
    },
    {
      "cell_type": "code",
      "metadata": {
        "id": "UxZ_4Rt2dtFL",
        "colab_type": "code",
        "colab": {
          "base_uri": "https://localhost:8080/",
          "height": 34
        },
        "outputId": "bbfa464b-c05e-4fd0-b24b-90e2c193abb7"
      },
      "source": [
        "def imc(peso,altura):\n",
        "    return peso/(altura*altura)\n",
        "\n",
        "indice = imc(100,2)\n",
        "print(indice) "
      ],
      "execution_count": 21,
      "outputs": [
        {
          "output_type": "stream",
          "text": [
            "25.0\n"
          ],
          "name": "stdout"
        }
      ]
    },
    {
      "cell_type": "code",
      "metadata": {
        "id": "MDxhzdODd4sy",
        "colab_type": "code",
        "colab": {
          "base_uri": "https://localhost:8080/",
          "height": 34
        },
        "outputId": "df2e7501-2930-4a8b-8014-7203c7d9a64b"
      },
      "source": [
        "def CtoF(c):\n",
        "    f =c*9/5 + 32 \n",
        "    return f\n",
        "    \n",
        "f = CtoF(40)\n",
        "print(f)\n"
      ],
      "execution_count": 22,
      "outputs": [
        {
          "output_type": "stream",
          "text": [
            "104.0\n"
          ],
          "name": "stdout"
        }
      ]
    },
    {
      "cell_type": "code",
      "metadata": {
        "id": "pJ1uLTqDd4xG",
        "colab_type": "code",
        "colab": {
          "base_uri": "https://localhost:8080/",
          "height": 34
        },
        "outputId": "b833f9e1-f0a8-4a38-c719-08c24f6de7a6"
      },
      "source": [
        "def nota_final(n1,n2,n3):\n",
        "    #calculo da nota final\n",
        "    nf=(n1*2+n2*3+n3*4)/9\n",
        "    return nf\n",
        "\n",
        "nf = nota_final(9,7,8)\n",
        "print(\"Nota final = \",nf)"
      ],
      "execution_count": 23,
      "outputs": [
        {
          "output_type": "stream",
          "text": [
            "Nota final =  7.888888888888889\n"
          ],
          "name": "stdout"
        }
      ]
    },
    {
      "cell_type": "code",
      "metadata": {
        "id": "zhEbdjGWd4zx",
        "colab_type": "code",
        "colab": {
          "base_uri": "https://localhost:8080/",
          "height": 34
        },
        "outputId": "a8205381-d4a6-4e4d-8143-b1e05bc6236c"
      },
      "source": [
        "#convertendo a temperatura para Celsius (ºC)\n",
        "#°C = (°F − 32) / 1.8\n",
        "#°F = °C × 1, 8 + 32\n",
        "def F_C(f):\n",
        "    c=(f-32)/1.8\n",
        "    return c\n",
        "\n",
        "F104 = 104 \n",
        "c = F_C(F104) \n",
        "#Exibindo o resultado\n",
        "print(\"A temperatura \",F104,\"em Fahrenheit (ºF) equivale a \",c, \" em Celsius (ºC)\")\n",
        "\n",
        "\n"
      ],
      "execution_count": 24,
      "outputs": [
        {
          "output_type": "stream",
          "text": [
            "A temperatura  104 em Fahrenheit (ºF) equivale a  40.0  em Celsius (ºC)\n"
          ],
          "name": "stdout"
        }
      ]
    },
    {
      "cell_type": "code",
      "metadata": {
        "id": "wV-42HQad42C",
        "colab_type": "code",
        "colab": {
          "base_uri": "https://localhost:8080/",
          "height": 34
        },
        "outputId": "7f6c95f1-c797-4a37-ae66-8053c9321ce7"
      },
      "source": [
        "def Mt_Pol(metros):\n",
        "    #convertendo metros em polegadas\n",
        "    pol = metros*39.37\n",
        "    return pol\n",
        "\n",
        "#Exibindo o resultado\n",
        "mts2 = 2\n",
        "pol = Mt_Pol(mts2)\n",
        "print(f\"{mts2:.2f} metros equivale a {pol:.2f} polegadas\")"
      ],
      "execution_count": 25,
      "outputs": [
        {
          "output_type": "stream",
          "text": [
            "2.00 metros equivale a 78.74 polegadas\n"
          ],
          "name": "stdout"
        }
      ]
    },
    {
      "cell_type": "code",
      "metadata": {
        "id": "zCFFssEOd44T",
        "colab_type": "code",
        "colab": {
          "base_uri": "https://localhost:8080/",
          "height": 85
        },
        "outputId": "544cf619-ed72-42f4-e16f-639d0989a8d8"
      },
      "source": [
        "def BRL_to_Moeda(reais, cambio):\n",
        "    return reais / cambio\n",
        "\n",
        "reais100 = 100\n",
        "am = BRL_to_Moeda(reais100,5.20) #dolar\n",
        "eu = BRL_to_Moeda(reais100,6.10) #euro\n",
        "chs = BRL_to_Moeda(reais100,1.7394329) # Renminbi \n",
        "chl = BRL_to_Moeda(reais100,0.005819) # peso\n",
        "print('R$100 reais vale em Dolar',am)\n",
        "print('R$100 reais vale em Euro',eu)\n",
        "print('R$100 reais vale em Renminbi',chs)\n",
        "print('R$100 reais vale em Peso',chl)"
      ],
      "execution_count": 26,
      "outputs": [
        {
          "output_type": "stream",
          "text": [
            "R$100 reais vale em Dolar 19.23076923076923\n",
            "R$100 reais vale em Euro 16.393442622950822\n",
            "R$100 reais vale em Renminbi 57.49000148266714\n",
            "R$100 reais vale em Peso 17185.083347654236\n"
          ],
          "name": "stdout"
        }
      ]
    },
    {
      "cell_type": "code",
      "metadata": {
        "id": "Dy69f2hMd462",
        "colab_type": "code",
        "colab": {
          "base_uri": "https://localhost:8080/",
          "height": 85
        },
        "outputId": "b06a6a02-058a-4830-8b9a-7dae6fcc4470"
      },
      "source": [
        "def formas_pagto(reais):\n",
        "    #formas de pagamentos\n",
        "    avista = reais*0.95 #5% de desconto\n",
        "    tresparcelas = reais/3 #3 parcelas iguais\n",
        "    dezparcelas = reais*1.2/10 # 10x com acréscimo de 20% \n",
        "    return (avista,tresparcelas,dezparcelas)\n",
        "\n",
        "reais100 = 100\n",
        "(avista,tresparcelas,dezparcelas) = formas_pagto(reais100)\n",
        "#Exibindo o resultado\n",
        "print(f\"Opções de pagamento para o produto no valor de {reais100:.2f} reais\")\n",
        "print(f\"A vista no valor de {avista:.2f} reais\")\n",
        "print(f\"3 x iguais de {tresparcelas:.2f} reais \")\n",
        "print(f\"10 x iguais de {dezparcelas:.2f} reais \")"
      ],
      "execution_count": 27,
      "outputs": [
        {
          "output_type": "stream",
          "text": [
            "Opções de pagamento para o produto no valor de 100.00 reais\n",
            "A vista no valor de 95.00 reais\n",
            "3 x iguais de 33.33 reais \n",
            "10 x iguais de 12.00 reais \n"
          ],
          "name": "stdout"
        }
      ]
    }
  ]
}