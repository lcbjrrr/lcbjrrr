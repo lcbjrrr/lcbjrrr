{
  "nbformat": 4,
  "nbformat_minor": 0,
  "metadata": {
    "colab": {
      "name": "SUMARIZACAO.ipynb",
      "provenance": []
    },
    "kernelspec": {
      "name": "python3",
      "display_name": "Python 3"
    },
    "language_info": {
      "name": "python"
    }
  },
  "cells": [
    {
      "cell_type": "markdown",
      "metadata": {
        "id": "WPzVo-KlBZVO"
      },
      "source": [
        "SUMARIZACAO"
      ]
    },
    {
      "cell_type": "code",
      "metadata": {
        "id": "3eqKR4bcBasB"
      },
      "source": [
        "<class 'pandas.core.frame.DataFrame'>\n",
        "RangeIndex: 708 entries, 0 to 707\n",
        "Data columns (total 7 columns):\n",
        "MesAno 891 non-null object\n",
        "OrgaoSuperior 891 non-null object\n",
        "OrgaoEntidade 891 non-null object\n",
        "ValorEmpenhado 891 non-null object\n",
        "ValorLiqu 891 non-null object\n",
        "ValorPago 714 non-null object\n",
        "Restos 891 non-null object"
      ],
      "execution_count": null,
      "outputs": []
    },
    {
      "cell_type": "markdown",
      "metadata": {
        "id": "hXhL_VIJDAL8"
      },
      "source": [
        "#Separar por Meses e Anos"
      ]
    },
    {
      "cell_type": "code",
      "metadata": {
        "id": "XIZbvcpADI0y"
      },
      "source": [
        "('Total ago/21', 239)\n",
        "('Total set/21', 236)\n",
        "('Total out/21', 231)"
      ],
      "execution_count": null,
      "outputs": []
    },
    {
      "cell_type": "markdown",
      "metadata": {
        "id": "UABxr2uRJUBW"
      },
      "source": [
        "É possível observar que o mês de Agosto de 2021 tem uma maior frequência apesar de todos os meses manterem números parecidos sem muita variação "
      ]
    }
  ]
}