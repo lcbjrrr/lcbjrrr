{
  "nbformat": 4,
  "nbformat_minor": 0,
  "metadata": {
    "colab": {
      "name": "R_12.ipynb",
      "provenance": [],
      "authorship_tag": "ABX9TyMfRoHz5XwWl35eS9SXRgv3",
      "include_colab_link": true
    },
    "kernelspec": {
      "name": "python3",
      "display_name": "Python 3"
    }
  },
  "cells": [
    {
      "cell_type": "markdown",
      "metadata": {
        "id": "view-in-github",
        "colab_type": "text"
      },
      "source": [
        "<a href=\"https://colab.research.google.com/github/lcbjrrr/lcbjrrr/blob/master/R_12.ipynb\" target=\"_parent\"><img src=\"https://colab.research.google.com/assets/colab-badge.svg\" alt=\"Open In Colab\"/></a>"
      ]
    },
    {
      "cell_type": "code",
      "metadata": {
        "id": "KicsLS0O99Vv",
        "colab_type": "code",
        "colab": {}
      },
      "source": [
        "%load_ext rpy2.ipython"
      ],
      "execution_count": 0,
      "outputs": []
    },
    {
      "cell_type": "code",
      "metadata": {
        "id": "tGSV6IqUtI28",
        "colab_type": "code",
        "outputId": "5cd25a75-bc85-4bf9-c8a1-e6c6dc64f03a",
        "colab": {
          "base_uri": "https://localhost:8080/",
          "height": 122
        }
      },
      "source": [
        "from google.colab import drive\n",
        "drive.mount('/content/drive')"
      ],
      "execution_count": 0,
      "outputs": [
        {
          "output_type": "stream",
          "text": [
            "Go to this URL in a browser: https://accounts.google.com/o/oauth2/auth?client_id=947318989803-6bn6qk8qdgf4n4g3pfee6491hc0brc4i.apps.googleusercontent.com&redirect_uri=urn%3aietf%3awg%3aoauth%3a2.0%3aoob&response_type=code&scope=email%20https%3a%2f%2fwww.googleapis.com%2fauth%2fdocs.test%20https%3a%2f%2fwww.googleapis.com%2fauth%2fdrive%20https%3a%2f%2fwww.googleapis.com%2fauth%2fdrive.photos.readonly%20https%3a%2f%2fwww.googleapis.com%2fauth%2fpeopleapi.readonly\n",
            "\n",
            "Enter your authorization code:\n",
            "··········\n",
            "Mounted at /content/drive\n"
          ],
          "name": "stdout"
        }
      ]
    },
    {
      "cell_type": "code",
      "metadata": {
        "id": "FKCxY0W09_vk",
        "colab_type": "code",
        "outputId": "96107488-9321-4fd2-f376-d64f90a58990",
        "colab": {
          "base_uri": "https://localhost:8080/",
          "height": 1000
        }
      },
      "source": [
        "%%R\n",
        " install.packages(\"quantmod\")\n",
        "library(quantmod)\n",
        "\n",
        " install.packages(\"TTR\")\n",
        "library(TTR)\n",
        "\n",
        " install.packages(\"PerformanceAnalytics\")\n",
        "library(PerformanceAnalytics)"
      ],
      "execution_count": 0,
      "outputs": [
        {
          "output_type": "stream",
          "text": [
            "/usr/local/lib/python3.6/dist-packages/rpy2/rinterface/__init__.py:146: RRuntimeWarning: Installing package into ‘/usr/local/lib/R/site-library’\n",
            "(as ‘lib’ is unspecified)\n",
            "\n",
            "  warnings.warn(x, RRuntimeWarning)\n",
            "/usr/local/lib/python3.6/dist-packages/rpy2/rinterface/__init__.py:146: RRuntimeWarning: also installing the dependencies ‘xts’, ‘zoo’, ‘TTR’\n",
            "\n",
            "\n",
            "  warnings.warn(x, RRuntimeWarning)\n",
            "/usr/local/lib/python3.6/dist-packages/rpy2/rinterface/__init__.py:146: RRuntimeWarning: trying URL 'https://cran.rstudio.com/src/contrib/xts_0.12-0.tar.gz'\n",
            "\n",
            "  warnings.warn(x, RRuntimeWarning)\n",
            "/usr/local/lib/python3.6/dist-packages/rpy2/rinterface/__init__.py:146: RRuntimeWarning: Content type 'application/x-gzip'\n",
            "  warnings.warn(x, RRuntimeWarning)\n",
            "/usr/local/lib/python3.6/dist-packages/rpy2/rinterface/__init__.py:146: RRuntimeWarning:  length 540698 bytes (528 KB)\n",
            "\n",
            "  warnings.warn(x, RRuntimeWarning)\n",
            "/usr/local/lib/python3.6/dist-packages/rpy2/rinterface/__init__.py:146: RRuntimeWarning: =\n",
            "  warnings.warn(x, RRuntimeWarning)\n",
            "/usr/local/lib/python3.6/dist-packages/rpy2/rinterface/__init__.py:146: RRuntimeWarning: \n",
            "\n",
            "  warnings.warn(x, RRuntimeWarning)\n",
            "/usr/local/lib/python3.6/dist-packages/rpy2/rinterface/__init__.py:146: RRuntimeWarning: downloaded 528 KB\n",
            "\n",
            "\n",
            "  warnings.warn(x, RRuntimeWarning)\n",
            "/usr/local/lib/python3.6/dist-packages/rpy2/rinterface/__init__.py:146: RRuntimeWarning: trying URL 'https://cran.rstudio.com/src/contrib/zoo_1.8-7.tar.gz'\n",
            "\n",
            "  warnings.warn(x, RRuntimeWarning)\n",
            "/usr/local/lib/python3.6/dist-packages/rpy2/rinterface/__init__.py:146: RRuntimeWarning:  length 861309 bytes (841 KB)\n",
            "\n",
            "  warnings.warn(x, RRuntimeWarning)\n",
            "/usr/local/lib/python3.6/dist-packages/rpy2/rinterface/__init__.py:146: RRuntimeWarning: downloaded 841 KB\n",
            "\n",
            "\n",
            "  warnings.warn(x, RRuntimeWarning)\n",
            "/usr/local/lib/python3.6/dist-packages/rpy2/rinterface/__init__.py:146: RRuntimeWarning: trying URL 'https://cran.rstudio.com/src/contrib/TTR_0.23-6.tar.gz'\n",
            "\n",
            "  warnings.warn(x, RRuntimeWarning)\n",
            "/usr/local/lib/python3.6/dist-packages/rpy2/rinterface/__init__.py:146: RRuntimeWarning:  length 309148 bytes (301 KB)\n",
            "\n",
            "  warnings.warn(x, RRuntimeWarning)\n",
            "/usr/local/lib/python3.6/dist-packages/rpy2/rinterface/__init__.py:146: RRuntimeWarning: downloaded 301 KB\n",
            "\n",
            "\n",
            "  warnings.warn(x, RRuntimeWarning)\n",
            "/usr/local/lib/python3.6/dist-packages/rpy2/rinterface/__init__.py:146: RRuntimeWarning: trying URL 'https://cran.rstudio.com/src/contrib/quantmod_0.4-16.tar.gz'\n",
            "\n",
            "  warnings.warn(x, RRuntimeWarning)\n",
            "/usr/local/lib/python3.6/dist-packages/rpy2/rinterface/__init__.py:146: RRuntimeWarning:  length 152106 bytes (148 KB)\n",
            "\n",
            "  warnings.warn(x, RRuntimeWarning)\n",
            "/usr/local/lib/python3.6/dist-packages/rpy2/rinterface/__init__.py:146: RRuntimeWarning: downloaded 148 KB\n",
            "\n",
            "\n",
            "  warnings.warn(x, RRuntimeWarning)\n",
            "/usr/local/lib/python3.6/dist-packages/rpy2/rinterface/__init__.py:146: RRuntimeWarning: \n",
            "  warnings.warn(x, RRuntimeWarning)\n",
            "/usr/local/lib/python3.6/dist-packages/rpy2/rinterface/__init__.py:146: RRuntimeWarning: The downloaded source packages are in\n",
            "\t‘/tmp/Rtmpj1mlOq/downloaded_packages’\n",
            "  warnings.warn(x, RRuntimeWarning)\n",
            "/usr/local/lib/python3.6/dist-packages/rpy2/rinterface/__init__.py:146: RRuntimeWarning: Loading required package: xts\n",
            "\n",
            "  warnings.warn(x, RRuntimeWarning)\n",
            "/usr/local/lib/python3.6/dist-packages/rpy2/rinterface/__init__.py:146: RRuntimeWarning: Loading required package: zoo\n",
            "\n",
            "  warnings.warn(x, RRuntimeWarning)\n",
            "/usr/local/lib/python3.6/dist-packages/rpy2/rinterface/__init__.py:146: RRuntimeWarning: \n",
            "Attaching package: ‘zoo’\n",
            "\n",
            "\n",
            "  warnings.warn(x, RRuntimeWarning)\n",
            "/usr/local/lib/python3.6/dist-packages/rpy2/rinterface/__init__.py:146: RRuntimeWarning: The following objects are masked from ‘package:base’:\n",
            "\n",
            "    as.Date, as.Date.numeric\n",
            "\n",
            "\n",
            "  warnings.warn(x, RRuntimeWarning)\n",
            "/usr/local/lib/python3.6/dist-packages/rpy2/rinterface/__init__.py:146: RRuntimeWarning: Loading required package: TTR\n",
            "\n",
            "  warnings.warn(x, RRuntimeWarning)\n",
            "/usr/local/lib/python3.6/dist-packages/rpy2/rinterface/__init__.py:146: RRuntimeWarning: Registered S3 method overwritten by 'quantmod':\n",
            "  method            from\n",
            "  as.zoo.data.frame zoo \n",
            "\n",
            "  warnings.warn(x, RRuntimeWarning)\n",
            "/usr/local/lib/python3.6/dist-packages/rpy2/rinterface/__init__.py:146: RRuntimeWarning: Version 0.4-0 included new data defaults. See ?getSymbols.\n",
            "\n",
            "  warnings.warn(x, RRuntimeWarning)\n",
            "/usr/local/lib/python3.6/dist-packages/rpy2/rinterface/__init__.py:146: RRuntimeWarning: also installing the dependency ‘quadprog’\n",
            "\n",
            "\n",
            "  warnings.warn(x, RRuntimeWarning)\n",
            "/usr/local/lib/python3.6/dist-packages/rpy2/rinterface/__init__.py:146: RRuntimeWarning: trying URL 'https://cran.rstudio.com/src/contrib/quadprog_1.5-8.tar.gz'\n",
            "\n",
            "  warnings.warn(x, RRuntimeWarning)\n",
            "/usr/local/lib/python3.6/dist-packages/rpy2/rinterface/__init__.py:146: RRuntimeWarning:  length 36141 bytes (35 KB)\n",
            "\n",
            "  warnings.warn(x, RRuntimeWarning)\n",
            "/usr/local/lib/python3.6/dist-packages/rpy2/rinterface/__init__.py:146: RRuntimeWarning: downloaded 35 KB\n",
            "\n",
            "\n",
            "  warnings.warn(x, RRuntimeWarning)\n",
            "/usr/local/lib/python3.6/dist-packages/rpy2/rinterface/__init__.py:146: RRuntimeWarning: trying URL 'https://cran.rstudio.com/src/contrib/PerformanceAnalytics_2.0.4.tar.gz'\n",
            "\n",
            "  warnings.warn(x, RRuntimeWarning)\n",
            "/usr/local/lib/python3.6/dist-packages/rpy2/rinterface/__init__.py:146: RRuntimeWarning:  length 2455098 bytes (2.3 MB)\n",
            "\n",
            "  warnings.warn(x, RRuntimeWarning)\n",
            "/usr/local/lib/python3.6/dist-packages/rpy2/rinterface/__init__.py:146: RRuntimeWarning: downloaded 2.3 MB\n",
            "\n",
            "\n",
            "  warnings.warn(x, RRuntimeWarning)\n",
            "/usr/local/lib/python3.6/dist-packages/rpy2/rinterface/__init__.py:146: RRuntimeWarning: \n",
            "Attaching package: ‘PerformanceAnalytics’\n",
            "\n",
            "\n",
            "  warnings.warn(x, RRuntimeWarning)\n",
            "/usr/local/lib/python3.6/dist-packages/rpy2/rinterface/__init__.py:146: RRuntimeWarning: The following object is masked from ‘package:graphics’:\n",
            "\n",
            "    legend\n",
            "\n",
            "\n",
            "  warnings.warn(x, RRuntimeWarning)\n"
          ],
          "name": "stderr"
        }
      ]
    },
    {
      "cell_type": "code",
      "metadata": {
        "id": "Vs6E530g-3Z-",
        "colab_type": "code",
        "colab": {}
      },
      "source": [
        "!pip install ttr\n",
        "!pip install talib"
      ],
      "execution_count": 0,
      "outputs": []
    },
    {
      "cell_type": "code",
      "metadata": {
        "id": "el49lofG-8cA",
        "colab_type": "code",
        "colab": {}
      },
      "source": [
        "import ttr"
      ],
      "execution_count": 0,
      "outputs": []
    },
    {
      "cell_type": "code",
      "metadata": {
        "id": "fGPwWX_f-Gat",
        "colab_type": "code",
        "outputId": "56c2e306-9b8c-4391-92bd-e15de3f4d250",
        "colab": {
          "base_uri": "https://localhost:8080/",
          "height": 977
        }
      },
      "source": [
        "%%R\n",
        "\n",
        "#Periodo de Analise\n",
        "startdate <- as.Date(\"2019-09-1\")\n",
        "enddate <- as.Date(\"2020-2-28\")\n",
        "\n",
        "#Selecao dos ativos para analise\n",
        "tickers <- c(\"GOLL4.SA\")\n",
        "\n",
        "#Captura dos dados\n",
        "getSymbols(tickers, src = \"yahoo\", from = startdate, to = enddate)\n",
        "\n",
        "#Graficos\n",
        "chartSeries(GOLL4.SA, TA = NULL) #Retirar o volume do grafico\n",
        "addMACD()\n",
        " \n",
        " "
      ],
      "execution_count": 0,
      "outputs": [
        {
          "output_type": "display_data",
          "data": {
            "image/png": "[encoded data removed]"
          },
          "metadata": {
            "tags": []
          }
        },
        {
          "output_type": "display_data",
          "data": {
            "image/png": "[encoded data removed]"
          },
          "metadata": {
            "tags": []
          }
        }
      ]
    },
    {
      "cell_type": "code",
      "metadata": {
        "id": "lT0mc3ZzlpZT",
        "colab_type": "code",
        "colab": {}
      },
      "source": [
        "%%R\n",
        "\n",
        "PETR4.SA$PETR4.SA.Close"
      ],
      "execution_count": 0,
      "outputs": []
    },
    {
      "cell_type": "code",
      "metadata": {
        "id": "L0WF9Mjj_sKB",
        "colab_type": "code",
        "outputId": "e30312a5-16ac-412f-864c-a54fca2436a5",
        "colab": {
          "base_uri": "https://localhost:8080/",
          "height": 1000
        }
      },
      "source": [
        "%%R\n",
        "#Criando a estrategia\n",
        "macd <- MACD(GOLL4.SA$GOLL4.SA.Close, nFast = 12, nSlow = 26, nSign = 9, maType = SMA, percent = F)\n",
        "macd\n"
      ],
      "execution_count": 0,
      "outputs": [
        {
          "output_type": "display_data",
          "data": {
            "text/plain": [
              "                  macd       signal\n",
              "2019-09-02          NA           NA\n",
              "2019-09-03          NA           NA\n",
              "2019-09-04          NA           NA\n",
              "2019-09-05          NA           NA\n",
              "2019-09-06          NA           NA\n",
              "2019-09-09          NA           NA\n",
              "2019-09-10          NA           NA\n",
              "2019-09-11          NA           NA\n",
              "2019-09-12          NA           NA\n",
              "2019-09-13          NA           NA\n",
              "2019-09-16          NA           NA\n",
              "2019-09-17          NA           NA\n",
              "2019-09-18          NA           NA\n",
              "2019-09-19          NA           NA\n",
              "2019-09-20          NA           NA\n",
              "2019-09-23          NA           NA\n",
              "2019-09-24          NA           NA\n",
              "2019-09-25          NA           NA\n",
              "2019-09-26          NA           NA\n",
              "2019-09-27          NA           NA\n",
              "2019-09-30          NA           NA\n",
              "2019-10-01          NA           NA\n",
              "2019-10-02          NA           NA\n",
              "2019-10-03          NA           NA\n",
              "2019-10-04          NA           NA\n",
              "2019-10-07 -0.45249999           NA\n",
              "2019-10-08 -0.52423080           NA\n",
              "2019-10-09 -0.54012853           NA\n",
              "2019-10-10 -0.52410315           NA\n",
              "2019-10-11 -0.45288519           NA\n",
              "2019-10-14 -0.39794934           NA\n",
              "2019-10-15 -0.20275699           NA\n",
              "2019-10-16 -0.02807747           NA\n",
              "2019-10-17  0.25769192 -0.318326616\n",
              "2019-10-18  0.63961495 -0.196980512\n",
              "2019-10-21  0.82974307 -0.046538971\n",
              "2019-10-22  0.98070453  0.122442481\n",
              "2019-10-23  1.24160217  0.318631961\n",
              "2019-10-24  1.52070487  0.537919744\n",
              "2019-10-25  1.71121789  0.772271659\n",
              "2019-10-28  1.91288469  1.007342957\n",
              "2019-10-29  1.99525630  1.232157821\n",
              "2019-10-30  2.01801287  1.427749037\n",
              "2019-10-31  1.96961534  1.575526858\n",
              "2019-11-01  1.93198739  1.697998449\n",
              "2019-11-04  1.76064128  1.784658088\n",
              "2019-11-05  1.60801312  1.825370416\n",
              "2019-11-06  1.46993616  1.819729449\n",
              "2019-11-07  1.15083351  1.757464518\n",
              "2019-11-08  0.85198736  1.639587037\n",
              "2019-11-11  0.57435915  1.481709575\n",
              "2019-11-12  0.25461556  1.285776542\n",
              "2019-11-13 -0.15410246  1.049807897\n",
              "2019-11-14 -0.53519216  0.775676836\n",
              "2019-11-18 -0.95602531  0.473824992\n",
              "2019-11-19 -1.13871733  0.168632719\n",
              "2019-11-21 -1.28076895 -0.137001182\n",
              "2019-11-22 -1.31397416 -0.410868701\n",
              "2019-11-25 -1.27448697 -0.647143626\n",
              "2019-11-26 -1.31141004 -0.856673536\n",
              "2019-11-27 -1.42544859 -1.043347331\n",
              "2019-11-28 -1.35782051 -1.177093781\n",
              "2019-11-29 -1.24442291 -1.255897198\n",
              "2019-12-02 -1.05179471 -1.266538241\n",
              "2019-12-03 -0.81076906 -1.230099545\n",
              "2019-12-04 -0.71102535 -1.166794700\n",
              "2019-12-05 -0.59403842 -1.086801840\n",
              "2019-12-06 -0.35442315 -0.984572528\n",
              "2019-12-09 -0.04051285 -0.843361729\n",
              "2019-12-10  0.04185887 -0.680327567\n",
              "2019-12-11  0.13833309 -0.514088278\n",
              "2019-12-12  0.33320497 -0.338796291\n",
              "2019-12-13  0.53076915 -0.162955863\n",
              "2019-12-16  0.63711548 -0.002079802\n",
              "2019-12-17  0.75217959  0.160498524\n",
              "2019-12-18  0.83346169  0.319109647\n",
              "2019-12-19  0.86858981  0.454999976\n",
              "2019-12-20  0.87205126  0.556395989\n",
              "2019-12-23  0.91557702  0.653475783\n",
              "2019-12-26  0.87012827  0.734786359\n",
              "2019-12-27  0.79237193  0.785804910\n",
              "2019-12-30  0.84237192  0.820427440\n",
              "2020-01-02  0.87320517  0.846659628\n",
              "2020-01-03  0.84564108  0.857044238\n",
              "2020-01-06  0.70019244  0.842236543\n",
              "2020-01-07  0.50006411  0.801289244\n",
              "2020-01-08  0.43737164  0.752991509\n",
              "2020-01-09  0.47737153  0.704302009\n",
              "2020-01-10  0.42173071  0.654480058\n",
              "2020-01-13  0.42948724  0.614159538\n",
              "2020-01-14  0.44121819  0.569586900\n",
              "2020-01-15  0.37096169  0.513782069\n",
              "2020-01-16  0.25955148  0.448661003\n",
              "2020-01-17  0.28179519  0.402172420\n",
              "2020-01-20  0.29160297  0.379010071\n",
              "2020-01-21  0.29198742  0.362856269\n",
              "2020-01-22  0.46384635  0.361353472\n",
              "2020-01-23  0.71833344  0.394309330\n",
              "2020-01-24  0.82275644  0.438005907\n",
              "2020-01-27  0.74987169  0.472300741\n",
              "2020-01-28  0.62929463  0.501004400\n",
              "2020-01-29  0.38237158  0.514651078\n",
              "2020-01-30  0.19038424  0.504494306\n",
              "2020-01-31  0.02679438  0.475071130\n",
              "2020-02-03 -0.08288515  0.433418622\n",
              "2020-02-04 -0.25641072  0.353390058\n",
              "2020-02-05 -0.36250050  0.233297398\n",
              "2020-02-06 -0.39961592  0.097478247\n",
              "2020-02-07 -0.52205194 -0.043846600\n",
              "2020-02-10 -0.86262871 -0.209615860\n",
              "2020-02-11 -1.07262866 -0.371282553\n",
              "2020-02-12 -1.06044910 -0.510264036\n",
              "2020-02-13 -1.11051299 -0.636631521\n",
              "2020-02-14 -0.99717949 -0.738219781\n",
              "2020-02-17 -0.85198724 -0.804394949\n",
              "2020-02-18 -0.63506421 -0.834679806\n",
              "2020-02-19 -0.40532046 -0.835313643\n",
              "2020-02-20 -0.35185893 -0.816403308\n",
              "2020-02-21 -0.44089735 -0.769544269\n",
              "2020-02-26 -0.66083324 -0.723789222\n",
              "2020-02-27 -0.89403833 -0.705299137\n"
            ]
          },
          "metadata": {
            "tags": []
          }
        }
      ]
    },
    {
      "cell_type": "code",
      "metadata": {
        "id": "MRBEz2WHjXJQ",
        "colab_type": "code",
        "outputId": "cb1fd951-0f34-46f5-8899-3e00ea3ba363",
        "colab": {
          "base_uri": "https://localhost:8080/",
          "height": 1000
        }
      },
      "source": [
        "%%R\n",
        "tradeRule <- Lag(ifelse(macd$macd < macd$signal, -1, 1))\n",
        "tradeRule"
      ],
      "execution_count": 0,
      "outputs": [
        {
          "output_type": "display_data",
          "data": {
            "text/plain": [
              "           Lag.1\n",
              "2019-09-02    NA\n",
              "2019-09-03    NA\n",
              "2019-09-04    NA\n",
              "2019-09-05    NA\n",
              "2019-09-06    NA\n",
              "2019-09-09    NA\n",
              "2019-09-10    NA\n",
              "2019-09-11    NA\n",
              "2019-09-12    NA\n",
              "2019-09-13    NA\n",
              "2019-09-16    NA\n",
              "2019-09-17    NA\n",
              "2019-09-18    NA\n",
              "2019-09-19    NA\n",
              "2019-09-20    NA\n",
              "2019-09-23    NA\n",
              "2019-09-24    NA\n",
              "2019-09-25    NA\n",
              "2019-09-26    NA\n",
              "2019-09-27    NA\n",
              "2019-09-30    NA\n",
              "2019-10-01    NA\n",
              "2019-10-02    NA\n",
              "2019-10-03    NA\n",
              "2019-10-04    NA\n",
              "2019-10-07    NA\n",
              "2019-10-08    NA\n",
              "2019-10-09    NA\n",
              "2019-10-10    NA\n",
              "2019-10-11    NA\n",
              "2019-10-14    NA\n",
              "2019-10-15    NA\n",
              "2019-10-16    NA\n",
              "2019-10-17    NA\n",
              "2019-10-18     1\n",
              "2019-10-21     1\n",
              "2019-10-22     1\n",
              "2019-10-23     1\n",
              "2019-10-24     1\n",
              "2019-10-25     1\n",
              "2019-10-28     1\n",
              "2019-10-29     1\n",
              "2019-10-30     1\n",
              "2019-10-31     1\n",
              "2019-11-01     1\n",
              "2019-11-04     1\n",
              "2019-11-05    -1\n",
              "2019-11-06    -1\n",
              "2019-11-07    -1\n",
              "2019-11-08    -1\n",
              "2019-11-11    -1\n",
              "2019-11-12    -1\n",
              "2019-11-13    -1\n",
              "2019-11-14    -1\n",
              "2019-11-18    -1\n",
              "2019-11-19    -1\n",
              "2019-11-21    -1\n",
              "2019-11-22    -1\n",
              "2019-11-25    -1\n",
              "2019-11-26    -1\n",
              "2019-11-27    -1\n",
              "2019-11-28    -1\n",
              "2019-11-29    -1\n",
              "2019-12-02     1\n",
              "2019-12-03     1\n",
              "2019-12-04     1\n",
              "2019-12-05     1\n",
              "2019-12-06     1\n",
              "2019-12-09     1\n",
              "2019-12-10     1\n",
              "2019-12-11     1\n",
              "2019-12-12     1\n",
              "2019-12-13     1\n",
              "2019-12-16     1\n",
              "2019-12-17     1\n",
              "2019-12-18     1\n",
              "2019-12-19     1\n",
              "2019-12-20     1\n",
              "2019-12-23     1\n",
              "2019-12-26     1\n",
              "2019-12-27     1\n",
              "2019-12-30     1\n",
              "2020-01-02     1\n",
              "2020-01-03     1\n",
              "2020-01-06    -1\n",
              "2020-01-07    -1\n",
              "2020-01-08    -1\n",
              "2020-01-09    -1\n",
              "2020-01-10    -1\n",
              "2020-01-13    -1\n",
              "2020-01-14    -1\n",
              "2020-01-15    -1\n",
              "2020-01-16    -1\n",
              "2020-01-17    -1\n",
              "2020-01-20    -1\n",
              "2020-01-21    -1\n",
              "2020-01-22    -1\n",
              "2020-01-23     1\n",
              "2020-01-24     1\n",
              "2020-01-27     1\n",
              "2020-01-28     1\n",
              "2020-01-29     1\n",
              "2020-01-30    -1\n",
              "2020-01-31    -1\n",
              "2020-02-03    -1\n",
              "2020-02-04    -1\n",
              "2020-02-05    -1\n",
              "2020-02-06    -1\n",
              "2020-02-07    -1\n",
              "2020-02-10    -1\n",
              "2020-02-11    -1\n",
              "2020-02-12    -1\n",
              "2020-02-13    -1\n",
              "2020-02-14    -1\n",
              "2020-02-17    -1\n",
              "2020-02-18    -1\n",
              "2020-02-19     1\n",
              "2020-02-20     1\n",
              "2020-02-21     1\n",
              "2020-02-26     1\n",
              "2020-02-27     1\n"
            ]
          },
          "metadata": {
            "tags": []
          }
        }
      ]
    },
    {
      "cell_type": "code",
      "metadata": {
        "id": "wB5F2JNC_5qi",
        "colab_type": "code",
        "outputId": "dfa4427c-bac4-408f-e715-375b2fd84d3a",
        "colab": {
          "base_uri": "https://localhost:8080/",
          "height": 1000
        }
      },
      "source": [
        "%%R\n",
        "#Calculando os retornos\n",
        "retornos <- ROC(GOLL4.SA$GOLL4.SA.Close) * tradeRule\n",
        "retornos <- retornos[\"2019-10-18/2020-2-28\"]\n",
        "retornos"
      ],
      "execution_count": 0,
      "outputs": [
        {
          "output_type": "display_data",
          "data": {
            "text/plain": [
              "           GOLL4.SA.Close\n",
              "2019-10-18  -0.0156778409\n",
              "2019-10-21  -0.0073633582\n",
              "2019-10-22   0.0582474817\n",
              "2019-10-23  -0.0086184210\n",
              "2019-10-24   0.0008111126\n",
              "2019-10-25  -0.0141537474\n",
              "2019-10-28   0.0275767678\n",
              "2019-10-29   0.0200639788\n",
              "2019-10-30   0.0153031136\n",
              "2019-10-31  -0.0596598396\n",
              "2019-11-01  -0.0054793562\n",
              "2019-11-04  -0.0219423042\n",
              "2019-11-05   0.0250226586\n",
              "2019-11-06  -0.0077441947\n",
              "2019-11-07  -0.0161545245\n",
              "2019-11-08   0.0460247744\n",
              "2019-11-11  -0.0064553628\n",
              "2019-11-12   0.0396770314\n",
              "2019-11-13  -0.0048572955\n",
              "2019-11-14  -0.0348197359\n",
              "2019-11-18  -0.0061234481\n",
              "2019-11-19   0.0058309492\n",
              "2019-11-21   0.0082209213\n",
              "2019-11-22  -0.0241748200\n",
              "2019-11-25   0.0028817887\n",
              "2019-11-26   0.0391399661\n",
              "2019-11-27   0.0054168355\n",
              "2019-11-28  -0.0384776687\n",
              "2019-11-29   0.0110949459\n",
              "2019-12-02  -0.0127051491\n",
              "2019-12-03   0.0393579141\n",
              "2019-12-04  -0.0152674431\n",
              "2019-12-05  -0.0029070660\n",
              "2019-12-06   0.0485822851\n",
              "2019-12-09   0.0173199656\n",
              "2019-12-10  -0.0471561496\n",
              "2019-12-11   0.0085348741\n",
              "2019-12-12   0.0112677812\n",
              "2019-12-13   0.0133557632\n",
              "2019-12-16   0.0041374213\n",
              "2019-12-17  -0.0279113833\n",
              "2019-12-18  -0.0051078428\n",
              "2019-12-19   0.0360423698\n",
              "2019-12-20  -0.0152083677\n",
              "2019-12-23   0.0157570645\n",
              "2019-12-26   0.0051977411\n",
              "2019-12-27   0.0073398726\n",
              "2019-12-30  -0.0032555375\n",
              "2020-01-02   0.0100041125\n",
              "2020-01-03  -0.0347645793\n",
              "2020-01-06   0.0470507865\n",
              "2020-01-07  -0.0058224618\n",
              "2020-01-08  -0.0387181854\n",
              "2020-01-09  -0.0231862710\n",
              "2020-01-10  -0.0159700232\n",
              "2020-01-13  -0.0202026536\n",
              "2020-01-14   0.0002631399\n",
              "2020-01-15   0.0272162198\n",
              "2020-01-16   0.0089662875\n",
              "2020-01-17  -0.0346018432\n",
              "2020-01-20   0.0034332795\n",
              "2020-01-21   0.0300774288\n",
              "2020-01-22  -0.0135393349\n",
              "2020-01-23   0.0490718684\n",
              "2020-01-24  -0.0320047874\n",
              "2020-01-27  -0.0689551276\n",
              "2020-01-28   0.0248998743\n",
              "2020-01-29  -0.0351505339\n",
              "2020-01-30  -0.0028580185\n",
              "2020-01-31   0.0228037299\n",
              "2020-02-03  -0.0029153957\n",
              "2020-02-04  -0.0233071124\n",
              "2020-02-05  -0.0288737371\n",
              "2020-02-06   0.0122325408\n",
              "2020-02-07   0.0367510671\n",
              "2020-02-10   0.0087438332\n",
              "2020-02-11  -0.0580037775\n",
              "2020-02-12  -0.0027585673\n",
              "2020-02-13   0.0251058371\n",
              "2020-02-14  -0.0168070618\n",
              "2020-02-17  -0.0107750457\n",
              "2020-02-18   0.0143927205\n",
              "2020-02-19   0.0132928853\n",
              "2020-02-20  -0.0435767909\n",
              "2020-02-21  -0.0285650146\n",
              "2020-02-26  -0.1544464066\n",
              "2020-02-27  -0.0932419267\n"
            ]
          },
          "metadata": {
            "tags": []
          }
        }
      ]
    },
    {
      "cell_type": "code",
      "metadata": {
        "id": "9RFESfR02opN",
        "colab_type": "code",
        "colab": {}
      },
      "source": [
        "%%R\n",
        "#retornos$GOLL4.SA.Close[is.na(retornos$GOLL4.SA.Close)] <- 0\n"
      ],
      "execution_count": 0,
      "outputs": []
    },
    {
      "cell_type": "code",
      "metadata": {
        "id": "OJxu0zynAkF9",
        "colab_type": "code",
        "outputId": "fc505525-7d23-4c38-c9b9-94c89f40c48f",
        "colab": {
          "base_uri": "https://localhost:8080/",
          "height": 1000
        }
      },
      "source": [
        "\n",
        "%%R\n",
        "#Grafico da performance da carteira\n",
        "carteira <- exp(cumsum(retornos$GOLL4.SA.Close))-1\n",
        "carteira\n"
      ],
      "execution_count": 0,
      "outputs": [
        {
          "output_type": "display_data",
          "data": {
            "text/plain": [
              "           GOLL4.SA.Close\n",
              "2019-10-18  -0.0155555833\n",
              "2019-10-21  -0.0227777778\n",
              "2019-10-22   0.0358333611\n",
              "2019-10-23   0.0269444722\n",
              "2019-10-24   0.0277777778\n",
              "2019-10-25   0.0133333333\n",
              "2019-10-28   0.0416666667\n",
              "2019-10-29   0.0627777222\n",
              "2019-10-30   0.0791666111\n",
              "2019-10-31   0.0166666111\n",
              "2019-11-01   0.0111111667\n",
              "2019-11-04  -0.0108333056\n",
              "2019-11-05   0.0142305493\n",
              "2019-11-06   0.0064064851\n",
              "2019-11-07  -0.0097209171\n",
              "2019-11-08   0.0369215761\n",
              "2019-11-11   0.0302494299\n",
              "2019-11-12   0.0719484451\n",
              "2019-11-13   0.0667542998\n",
              "2019-11-14   0.0302494299\n",
              "2019-11-18   0.0239600270\n",
              "2019-11-19   0.0299481271\n",
              "2019-11-21   0.0384501490\n",
              "2019-11-22   0.0136468195\n",
              "2019-11-25   0.0165721485\n",
              "2019-11-26   0.0571496692\n",
              "2019-11-27   0.0628916126\n",
              "2019-11-28   0.0227708479\n",
              "2019-11-29   0.0341816190\n",
              "2019-12-02   0.0211253042\n",
              "2019-12-03   0.0621160297\n",
              "2019-12-04   0.0460233929\n",
              "2019-12-05   0.0429869496\n",
              "2019-12-06   0.0949086648\n",
              "2019-12-09   0.1140376234\n",
              "2019-12-10   0.0627233002\n",
              "2019-12-11   0.0718323267\n",
              "2019-12-12   0.0839777965\n",
              "2019-12-13   0.0985522571\n",
              "2019-12-16   0.1031068463\n",
              "2019-12-17   0.0727433234\n",
              "2019-12-18   0.0672778893\n",
              "2019-12-19   0.1064467427\n",
              "2019-12-20   0.0897468051\n",
              "2019-12-23   0.1070540132\n",
              "2019-12-26   0.1128231736\n",
              "2019-12-27   0.1210212033\n",
              "2019-12-30   0.1173776109\n",
              "2020-01-02   0.1286120840\n",
              "2020-01-03   0.0900505315\n",
              "2020-01-06   0.1425639784\n",
              "2020-01-07   0.1359307728\n",
              "2020-01-08   0.0927901471\n",
              "2020-01-09   0.0677439052\n",
              "2020-01-10   0.0508274478\n",
              "2020-01-13   0.0298109542\n",
              "2020-01-14   0.0300819742\n",
              "2020-01-15   0.0585018989\n",
              "2020-01-16   0.0680354074\n",
              "2020-01-17   0.0317114753\n",
              "2020-01-20   0.0352597168\n",
              "2020-01-21   0.0668706723\n",
              "2020-01-22   0.0525232991\n",
              "2020-01-23   0.1054608331\n",
              "2020-01-24   0.0706409675\n",
              "2020-01-27  -0.0006973802\n",
              "2020-01-28   0.0244975024\n",
              "2020-01-29  -0.0108885687\n",
              "2020-01-30  -0.0137114316\n",
              "2020-01-31   0.0090380269\n",
              "2020-02-03   0.0061005658\n",
              "2020-02-04  -0.0170775762\n",
              "2020-02-05  -0.0450524074\n",
              "2020-02-06  -0.0332992330\n",
              "2020-02-07   0.0028889560\n",
              "2020-02-10   0.0116964995\n",
              "2020-02-11  -0.0453162578\n",
              "2020-02-12  -0.0479461881\n",
              "2020-02-13  -0.0237415122\n",
              "2020-02-14  -0.0400124327\n",
              "2020-02-17  -0.0503008142\n",
              "2020-02-18  -0.0365332204\n",
              "2020-02-19  -0.0236404659\n",
              "2020-02-20  -0.0652733788\n",
              "2020-02-21  -0.0915961139\n",
              "2020-02-26  -0.2215983258\n",
              "2020-02-27  -0.2908970256\n"
            ]
          },
          "metadata": {
            "tags": []
          }
        }
      ]
    },
    {
      "cell_type": "code",
      "metadata": {
        "id": "WYvNR03M2Qw_",
        "colab_type": "code",
        "outputId": "6b8137c3-f1c3-4b70-85bc-31b7835de981",
        "colab": {
          "base_uri": "https://localhost:8080/",
          "height": 497
        }
      },
      "source": [
        "%%R\n",
        "plot(carteira)\n",
        "\n"
      ],
      "execution_count": 0,
      "outputs": [
        {
          "output_type": "display_data",
          "data": {
            "image/png": "[encoded data removed]"
          },
          "metadata": {
            "tags": []
          }
        }
      ]
    },
    {
      "cell_type": "code",
      "metadata": {
        "id": "4slX1CI43ByX",
        "colab_type": "code",
        "outputId": "81857a08-08e7-458b-b3a5-0eda9278ff44",
        "colab": {
          "base_uri": "https://localhost:8080/",
          "height": 153
        }
      },
      "source": [
        "%%R\n",
        "\n",
        "#Avaliaçao da Carteira\n",
        "\n",
        "table.Drawdowns(retornos, top = 10)\n"
      ],
      "execution_count": 0,
      "outputs": [
        {
          "output_type": "display_data",
          "data": {
            "text/plain": [
              "        From     Trough         To   Depth Length To Trough Recovery\n",
              "1 2020-01-07 2020-02-27       <NA> -0.3683     37        36       NA\n",
              "2 2019-10-31 2019-11-04 2019-12-06 -0.0853     25         3       22\n",
              "3 2019-12-10 2019-12-10 2019-12-27 -0.0472     12         1       11\n",
              "4 2020-01-03 2020-01-03 2020-01-06 -0.0348      2         1        1\n",
              "5 2019-10-18 2019-10-21 2019-10-22 -0.0229      3         2        1\n",
              "6 2019-10-23 2019-10-25 2019-10-28 -0.0219      4         3        1\n",
              "7 2019-12-30 2019-12-30 2020-01-02 -0.0033      2         1        1\n"
            ]
          },
          "metadata": {
            "tags": []
          }
        }
      ]
    },
    {
      "cell_type": "code",
      "metadata": {
        "id": "qs25FIgLcFMR",
        "colab_type": "code",
        "outputId": "87eeae07-842f-42f5-c1e5-1d2287e5e141",
        "colab": {
          "base_uri": "https://localhost:8080/",
          "height": 221
        }
      },
      "source": [
        "%%R\n",
        "table.DownsideRisk(retornos)\n"
      ],
      "execution_count": 0,
      "outputs": [
        {
          "output_type": "display_data",
          "data": {
            "text/plain": [
              "                              GOLL4.SA.Close\n",
              "Semi Deviation                        0.0242\n",
              "Gain Deviation                        0.0157\n",
              "Loss Deviation                        0.0258\n",
              "Downside Deviation (MAR=210%)         0.0305\n",
              "Downside Deviation (Rf=0%)            0.0259\n",
              "Downside Deviation (0%)               0.0259\n",
              "Maximum Drawdown                      0.3683\n",
              "Historical VaR (95%)                 -0.0473\n",
              "Historical ES (95%)                  -0.0777\n",
              "Modified VaR (95%)                   -0.0617\n",
              "Modified ES (95%)                    -0.1115\n"
            ]
          },
          "metadata": {
            "tags": []
          }
        }
      ]
    },
    {
      "cell_type": "code",
      "metadata": {
        "id": "BsB20I05cH3V",
        "colab_type": "code",
        "outputId": "a3af908f-c750-49c7-e531-ff68dd30f471",
        "colab": {
          "base_uri": "https://localhost:8080/",
          "height": 497
        }
      },
      "source": [
        "%%R\n",
        "\n",
        "charts.PerformanceSummary(retornos)"
      ],
      "execution_count": 0,
      "outputs": [
        {
          "output_type": "display_data",
          "data": {
            "image/png": "[encoded data removed]"
          },
          "metadata": {
            "tags": []
          }
        }
      ]
    },
    {
      "cell_type": "markdown",
      "metadata": {
        "id": "isWi2jmVrdGI",
        "colab_type": "text"
      },
      "source": [
        "![alt text](https://pbs.twimg.com/media/ER8_mwfXkAETr4H?format=png&name=medium)"
      ]
    },
    {
      "cell_type": "markdown",
      "metadata": {
        "id": "yRz9mTp3rhZj",
        "colab_type": "text"
      },
      "source": [
        ""
      ]
    },
    {
      "cell_type": "code",
      "metadata": {
        "id": "Xe59Eautr09E",
        "colab_type": "code",
        "outputId": "44320306-8a43-4865-8ef5-1796911507c6",
        "colab": {
          "base_uri": "https://localhost:8080/",
          "height": 17
        }
      },
      "source": [
        " \n",
        "\n",
        "from IPython.core.display import HTML\n",
        "HTML('<script>alert(\"alo\")</script>')"
      ],
      "execution_count": 0,
      "outputs": [
        {
          "output_type": "execute_result",
          "data": {
            "text/html": [
              "<script>alert(\"alo\")</script>"
            ],
            "text/plain": [
              "<IPython.core.display.HTML object>"
            ]
          },
          "metadata": {
            "tags": []
          },
          "execution_count": 22
        }
      ]
    },
    {
      "cell_type": "code",
      "metadata": {
        "id": "kG8AiSH7smIx",
        "colab_type": "code",
        "outputId": "4cff5928-fe89-4db1-fd84-d87ca7ebb984",
        "colab": {
          "base_uri": "https://localhost:8080/",
          "height": 17
        }
      },
      "source": [
        "from IPython.core.display import display, HTML\n",
        "display(HTML('<script>alert(\"alo\")</script>'))"
      ],
      "execution_count": 0,
      "outputs": [
        {
          "output_type": "display_data",
          "data": {
            "text/html": [
              "<script>alert(\"alo\")</script>"
            ],
            "text/plain": [
              "<IPython.core.display.HTML object>"
            ]
          },
          "metadata": {
            "tags": []
          }
        }
      ]
    },
    {
      "cell_type": "code",
      "metadata": {
        "id": "JJKVpMZ7stqt",
        "colab_type": "code",
        "colab": {}
      },
      "source": [
        "from IPython.display import IFrame\n",
        "\n",
        "IFrame(src='.' , srcdoc='<h1>Hello, world!</h1>', width=700, height=600)"
      ],
      "execution_count": 0,
      "outputs": []
    }
  ]
}