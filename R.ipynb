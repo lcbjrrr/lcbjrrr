{
  "nbformat": 4,
  "nbformat_minor": 0,
  "metadata": {
    "colab": {
      "name": "R.ipynb",
      "provenance": [],
      "include_colab_link": true
    },
    "kernelspec": {
      "name": "python3",
      "display_name": "Python 3"
    }
  },
  "cells": [
    {
      "cell_type": "markdown",
      "metadata": {
        "id": "view-in-github",
        "colab_type": "text"
      },
      "source": [
        "<a href=\"https://colab.research.google.com/github/lcbjrrr/lcbjrrr/blob/master/R.ipynb\" target=\"_parent\"><img src=\"https://colab.research.google.com/assets/colab-badge.svg\" alt=\"Open In Colab\"/></a>"
      ]
    },
    {
      "cell_type": "code",
      "metadata": {
        "id": "fAM--5YFNtJg",
        "colab_type": "code",
        "outputId": "506d601b-a061-40e0-dbb1-d6503bc450c4",
        "colab": {
          "base_uri": "https://localhost:8080/",
          "height": 52
        }
      },
      "source": [
        "%load_ext rpy2.ipython"
      ],
      "execution_count": 0,
      "outputs": [
        {
          "output_type": "stream",
          "text": [
            "The rpy2.ipython extension is already loaded. To reload it, use:\n",
            "  %reload_ext rpy2.ipython\n"
          ],
          "name": "stdout"
        }
      ]
    },
    {
      "cell_type": "code",
      "metadata": {
        "id": "Rei6KSF6Nynz",
        "colab_type": "code",
        "outputId": "8faa2c8a-b0dc-428d-8479-5b564b1e4501",
        "colab": {
          "base_uri": "https://localhost:8080/",
          "height": 35
        }
      },
      "source": [
        "%%R\n",
        "\n",
        "print('alo mundo')"
      ],
      "execution_count": 0,
      "outputs": [
        {
          "output_type": "display_data",
          "data": {
            "text/plain": [
              "[1] \"alo mundo\"\n"
            ]
          },
          "metadata": {
            "tags": []
          }
        }
      ]
    },
    {
      "cell_type": "code",
      "metadata": {
        "id": "AjOilgXVN13u",
        "colab_type": "code",
        "outputId": "80a1e65b-bb70-4ca0-ea7b-37aef875dfea",
        "colab": {
          "base_uri": "https://localhost:8080/",
          "height": 35
        }
      },
      "source": [
        "%%R\n",
        "x <-1\n",
        "y <-2\n",
        "z <-x+y\n",
        "z"
      ],
      "execution_count": 0,
      "outputs": [
        {
          "output_type": "display_data",
          "data": {
            "text/plain": [
              "[1] 3\n"
            ]
          },
          "metadata": {
            "tags": []
          }
        }
      ]
    },
    {
      "cell_type": "code",
      "metadata": {
        "id": "u_TaDcMUN7UX",
        "colab_type": "code",
        "colab": {}
      },
      "source": [
        "# Ao utilizar arquivos no Github nem precisa mapear\n",
        "#from google.colab import drive\n",
        "#drive.mount('/content/drive')"
      ],
      "execution_count": 0,
      "outputs": []
    },
    {
      "cell_type": "code",
      "metadata": {
        "id": "e1MvzlPvODAz",
        "colab_type": "code",
        "outputId": "e5115ca8-3e22-4baa-e1d7-5130623de030",
        "colab": {
          "base_uri": "https://localhost:8080/",
          "height": 242
        }
      },
      "source": [
        "%%R\n",
        "\n",
        "notas_turma <- read.csv('https://raw.githubusercontent.com/Grupo-de-Pesquisa-em-Macro-Aplicada/Ibmec-Pesquisa-Macro-Aplicada/master/notas_turma%20-%20final.csv')\n",
        "notas_turma"
      ],
      "execution_count": 0,
      "outputs": [
        {
          "output_type": "display_data",
          "data": {
            "text/plain": [
              "   Curso  Alunos  AP1  AP2  AP3 Nota Conceito\n",
              "1    ADM    João  9.0  8.0  9.0  8.6        B\n",
              "2    ADM   Maria  6.0  4.0 10.0  6.0        D\n",
              "3    DIR    José  4.0  3.0  4.0  3.6        F\n",
              "4    ADM   Pedro  8.0 10.0  7.0  8.6        B\n",
              "5    ECO   Paulo  7.5  8.0  9.5  8.1        B\n",
              "6    DIR  Esther  6.0  4.5  6.0  5.4        D\n",
              "7    ADM Gabriel  8.0  6.0  8.0  7.2        B\n",
              "8    DIR  Rafael  7.5 10.0  9.5  8.9        B\n",
              "9    ECO    Davi  6.0 10.0  7.0  7.8        B\n",
              "10   DIR  Silvio 10.0  9.5  9.5  9.7        A\n",
              "11   ADM   Sofia  8.0  7.0  6.0  7.2        B\n",
              "12   ADM  Raquel  4.5  4.0  4.0  4.2        F\n"
            ]
          },
          "metadata": {
            "tags": []
          }
        }
      ]
    },
    {
      "cell_type": "code",
      "metadata": {
        "id": "DOEUZLStOTqf",
        "colab_type": "code",
        "outputId": "0174a61a-a174-4157-c134-c47139ce77ee",
        "colab": {
          "base_uri": "https://localhost:8080/",
          "height": 35
        }
      },
      "source": [
        "%%R\n",
        "notas_turma$Nota"
      ],
      "execution_count": 0,
      "outputs": [
        {
          "output_type": "display_data",
          "data": {
            "text/plain": [
              " [1] 8.6 6.0 3.6 8.6 8.1 5.4 7.2 8.9 7.8 9.7 7.2 4.2\n"
            ]
          },
          "metadata": {
            "tags": []
          }
        }
      ]
    },
    {
      "cell_type": "code",
      "metadata": {
        "id": "u-kgUWPzOWzp",
        "colab_type": "code",
        "outputId": "577b1912-b67e-4c53-e958-df0ce9b7dc56",
        "colab": {
          "base_uri": "https://localhost:8080/",
          "height": 497
        }
      },
      "source": [
        "%%R\n",
        "boxplot(notas_turma$Nota)"
      ],
      "execution_count": 0,
      "outputs": [
        {
          "output_type": "display_data",
          "data": {
            "image/png": "[encoded data removed]"
          },
          "metadata": {
            "tags": []
          }
        }
      ]
    },
    {
      "cell_type": "code",
      "metadata": {
        "id": "HvzUqBR1Ode9",
        "colab_type": "code",
        "outputId": "fc9c9ea9-6cf1-4ebb-8e75-64ee039fa7fc",
        "colab": {
          "base_uri": "https://localhost:8080/",
          "height": 497
        }
      },
      "source": [
        "%%R\n",
        "hist(notas_turma$Nota, freq=T, breaks=c(0,5,7,9,10))"
      ],
      "execution_count": 0,
      "outputs": [
        {
          "output_type": "display_data",
          "data": {
            "image/png": "[encoded data removed]"
          },
          "metadata": {
            "tags": []
          }
        }
      ]
    },
    {
      "cell_type": "code",
      "metadata": {
        "id": "RgymEoytOmHF",
        "colab_type": "code",
        "outputId": "7068e913-ece7-44bd-97f6-f7e62b4d1fa2",
        "colab": {
          "base_uri": "https://localhost:8080/",
          "height": 69
        }
      },
      "source": [
        "%%R\n",
        "\n",
        "nts <- read.csv('https://raw.githubusercontent.com/Grupo-de-Pesquisa-em-Macro-Aplicada/Ibmec-Pesquisa-Macro-Aplicada/master/notas%20-%20ok.csv')\n",
        "nts$AP3"
      ],
      "execution_count": 0,
      "outputs": [
        {
          "output_type": "display_data",
          "data": {
            "text/plain": [
              " [1]  9.0  9.0 10.0  9.9  9.8  9.7  9.6  9.5  5.0  4.0  4.5  4.4  4.3  4.2  4.1\n",
              "[16]  4.0  4.2  4.1  4.0  3.9  3.8  3.7  3.6  3.5  4.0  5.0  4.5  5.5 10.0 10.0\n",
              "[31] 10.0 10.0 10.0 10.0 10.0 10.0 10.0 10.0 10.0 10.0\n"
            ]
          },
          "metadata": {
            "tags": []
          }
        }
      ]
    },
    {
      "cell_type": "code",
      "metadata": {
        "id": "HcA_uG6IO3Ha",
        "colab_type": "code",
        "outputId": "123cc65d-0331-428e-c09c-7ad14f39fa1c",
        "colab": {
          "base_uri": "https://localhost:8080/",
          "height": 363
        }
      },
      "source": [
        "%%R\n",
        "\n",
        "rl <- lm(nts$AP3 ~ nts$AP1 + nts$AP2)\n",
        "summary(rl)"
      ],
      "execution_count": 0,
      "outputs": [
        {
          "output_type": "display_data",
          "data": {
            "text/plain": [
              "\n",
              "Call:\n",
              "lm(formula = nts$AP3 ~ nts$AP1 + nts$AP2)\n",
              "\n",
              "Residuals:\n",
              "    Min      1Q  Median      3Q     Max \n",
              "-0.7134 -0.2595 -0.1824  0.2717  0.7565 \n",
              "\n",
              "Coefficients:\n",
              "            Estimate Std. Error t value Pr(>|t|)    \n",
              "(Intercept) -0.82577    0.26542  -3.111  0.00358 ** \n",
              "nts$AP1     -0.36608    0.02972 -12.318 1.17e-14 ***\n",
              "nts$AP2      1.38339    0.03089  44.788  < 2e-16 ***\n",
              "---\n",
              "Signif. codes:  0 ‘***’ 0.001 ‘**’ 0.01 ‘*’ 0.05 ‘.’ 0.1 ‘ ’ 1\n",
              "\n",
              "Residual standard error: 0.3966 on 37 degrees of freedom\n",
              "Multiple R-squared:  0.9819,\tAdjusted R-squared:  0.9809 \n",
              "F-statistic:  1003 on 2 and 37 DF,  p-value: < 2.2e-16\n",
              "\n"
            ]
          },
          "metadata": {
            "tags": []
          }
        }
      ]
    }
  ]
}