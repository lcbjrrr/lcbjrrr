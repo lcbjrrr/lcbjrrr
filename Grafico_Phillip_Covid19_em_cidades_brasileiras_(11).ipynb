{
  "nbformat": 4,
  "nbformat_minor": 0,
  "metadata": {
    "colab": {
      "name": "Grafico_Phillip_Covid19_em_cidades_brasileiras (11).ipynb",
      "provenance": [],
      "collapsed_sections": [],
      "include_colab_link": true
    },
    "kernelspec": {
      "name": "python3",
      "display_name": "Python 3"
    },
    "language_info": {
      "name": "python"
    }
  },
  "cells": [
    {
      "cell_type": "markdown",
      "metadata": {
        "id": "view-in-github",
        "colab_type": "text"
      },
      "source": [
        "<a href=\"https://colab.research.google.com/github/lcbjrrr/lcbjrrr/blob/master/Grafico_Phillip_Covid19_em_cidades_brasileiras_(11).ipynb\" target=\"_parent\"><img src=\"https://colab.research.google.com/assets/colab-badge.svg\" alt=\"Open In Colab\"/></a>"
      ]
    },
    {
      "cell_type": "markdown",
      "metadata": {
        "id": "tkELRqnN9J79"
      },
      "source": [
        "# Cálculo de média, mínimo e máximo do número de cados de covid19 para cada cidade\n",
        "\n"
      ]
    },
    {
      "cell_type": "code",
      "metadata": {
        "colab": {
          "base_uri": "https://localhost:8080/",
          "height": 731
        },
        "id": "9WIglUYd_jBT",
        "outputId": "ccc7f9ed-671a-400a-a988-e4642691de06"
      },
      "source": [
        "#Número de casos de covid19 relacionados à meses\n",
        "import pandas as pd\n",
        "#carrega o arquivo csv e convert para dataFrame\n",
        "df1 = pd.read_csv('brazil_covid19_cities.csv')\n",
        "#Agrupa cidades (name) construindo a média, mínimo e máximo. \n",
        "#Como uma cidade, como SP, pode aparecer várias vezes com casos registrados,\n",
        "#em dias diferentes, assim é posível realizar o cálculo estatístico sobre a mesma\n",
        "df2 = df1.groupby('name').agg({'cases': ['mean', 'min', 'max']}).sort_values(by='name',ascending=False).head(20)\n",
        "df2"
      ],
      "execution_count": null,
      "outputs": [
        {
          "output_type": "execute_result",
          "data": {
            "text/html": [
              "<div>\n",
              "<style scoped>\n",
              "    .dataframe tbody tr th:only-of-type {\n",
              "        vertical-align: middle;\n",
              "    }\n",
              "\n",
              "    .dataframe tbody tr th {\n",
              "        vertical-align: top;\n",
              "    }\n",
              "\n",
              "    .dataframe thead tr th {\n",
              "        text-align: left;\n",
              "    }\n",
              "\n",
              "    .dataframe thead tr:last-of-type th {\n",
              "        text-align: right;\n",
              "    }\n",
              "</style>\n",
              "<table border=\"1\" class=\"dataframe\">\n",
              "  <thead>\n",
              "    <tr>\n",
              "      <th></th>\n",
              "      <th colspan=\"3\" halign=\"left\">cases</th>\n",
              "    </tr>\n",
              "    <tr>\n",
              "      <th></th>\n",
              "      <th>mean</th>\n",
              "      <th>min</th>\n",
              "      <th>max</th>\n",
              "    </tr>\n",
              "    <tr>\n",
              "      <th>name</th>\n",
              "      <th></th>\n",
              "      <th></th>\n",
              "      <th></th>\n",
              "    </tr>\n",
              "  </thead>\n",
              "  <tbody>\n",
              "    <tr>\n",
              "      <th>Óleo</th>\n",
              "      <td>3.333333</td>\n",
              "      <td>1.0</td>\n",
              "      <td>7.0</td>\n",
              "    </tr>\n",
              "    <tr>\n",
              "      <th>Óbidos</th>\n",
              "      <td>1363.266667</td>\n",
              "      <td>292.0</td>\n",
              "      <td>2333.0</td>\n",
              "    </tr>\n",
              "    <tr>\n",
              "      <th>Érico Cardoso</th>\n",
              "      <td>1.065934</td>\n",
              "      <td>0.0</td>\n",
              "      <td>3.0</td>\n",
              "    </tr>\n",
              "    <tr>\n",
              "      <th>Ângulo</th>\n",
              "      <td>26.955556</td>\n",
              "      <td>1.0</td>\n",
              "      <td>54.0</td>\n",
              "    </tr>\n",
              "    <tr>\n",
              "      <th>Áurea</th>\n",
              "      <td>12.355556</td>\n",
              "      <td>1.0</td>\n",
              "      <td>20.0</td>\n",
              "    </tr>\n",
              "    <tr>\n",
              "      <th>Álvaro de Carvalho</th>\n",
              "      <td>8.933333</td>\n",
              "      <td>3.0</td>\n",
              "      <td>17.0</td>\n",
              "    </tr>\n",
              "    <tr>\n",
              "      <th>Álvares Machado</th>\n",
              "      <td>144.100000</td>\n",
              "      <td>62.0</td>\n",
              "      <td>226.0</td>\n",
              "    </tr>\n",
              "    <tr>\n",
              "      <th>Álvares Florence</th>\n",
              "      <td>36.188889</td>\n",
              "      <td>8.0</td>\n",
              "      <td>59.0</td>\n",
              "    </tr>\n",
              "    <tr>\n",
              "      <th>Águia Branca</th>\n",
              "      <td>263.736264</td>\n",
              "      <td>72.0</td>\n",
              "      <td>397.0</td>\n",
              "    </tr>\n",
              "    <tr>\n",
              "      <th>Águas de São Pedro</th>\n",
              "      <td>29.111111</td>\n",
              "      <td>8.0</td>\n",
              "      <td>49.0</td>\n",
              "    </tr>\n",
              "    <tr>\n",
              "      <th>Águas de Santa Bárbara</th>\n",
              "      <td>15.333333</td>\n",
              "      <td>7.0</td>\n",
              "      <td>24.0</td>\n",
              "    </tr>\n",
              "    <tr>\n",
              "      <th>Águas de Lindóia</th>\n",
              "      <td>107.522222</td>\n",
              "      <td>44.0</td>\n",
              "      <td>164.0</td>\n",
              "    </tr>\n",
              "    <tr>\n",
              "      <th>Águas de Chapecó</th>\n",
              "      <td>36.333333</td>\n",
              "      <td>25.0</td>\n",
              "      <td>51.0</td>\n",
              "    </tr>\n",
              "    <tr>\n",
              "      <th>Águas da Prata</th>\n",
              "      <td>25.966667</td>\n",
              "      <td>2.0</td>\n",
              "      <td>61.0</td>\n",
              "    </tr>\n",
              "    <tr>\n",
              "      <th>Águas Vermelhas</th>\n",
              "      <td>33.252747</td>\n",
              "      <td>21.0</td>\n",
              "      <td>50.0</td>\n",
              "    </tr>\n",
              "    <tr>\n",
              "      <th>Águas Mornas</th>\n",
              "      <td>90.511111</td>\n",
              "      <td>16.0</td>\n",
              "      <td>154.0</td>\n",
              "    </tr>\n",
              "    <tr>\n",
              "      <th>Águas Lindas de Goiás</th>\n",
              "      <td>2116.307692</td>\n",
              "      <td>774.0</td>\n",
              "      <td>3477.0</td>\n",
              "    </tr>\n",
              "    <tr>\n",
              "      <th>Águas Frias</th>\n",
              "      <td>31.766667</td>\n",
              "      <td>1.0</td>\n",
              "      <td>91.0</td>\n",
              "    </tr>\n",
              "    <tr>\n",
              "      <th>Águas Formosas</th>\n",
              "      <td>218.373626</td>\n",
              "      <td>12.0</td>\n",
              "      <td>308.0</td>\n",
              "    </tr>\n",
              "    <tr>\n",
              "      <th>Águas Belas</th>\n",
              "      <td>611.277778</td>\n",
              "      <td>386.0</td>\n",
              "      <td>787.0</td>\n",
              "    </tr>\n",
              "  </tbody>\n",
              "</table>\n",
              "</div>"
            ],
            "text/plain": [
              "                              cases               \n",
              "                               mean    min     max\n",
              "name                                              \n",
              "Óleo                       3.333333    1.0     7.0\n",
              "Óbidos                  1363.266667  292.0  2333.0\n",
              "Érico Cardoso              1.065934    0.0     3.0\n",
              "Ângulo                    26.955556    1.0    54.0\n",
              "Áurea                     12.355556    1.0    20.0\n",
              "Álvaro de Carvalho         8.933333    3.0    17.0\n",
              "Álvares Machado          144.100000   62.0   226.0\n",
              "Álvares Florence          36.188889    8.0    59.0\n",
              "Águia Branca             263.736264   72.0   397.0\n",
              "Águas de São Pedro        29.111111    8.0    49.0\n",
              "Águas de Santa Bárbara    15.333333    7.0    24.0\n",
              "Águas de Lindóia         107.522222   44.0   164.0\n",
              "Águas de Chapecó          36.333333   25.0    51.0\n",
              "Águas da Prata            25.966667    2.0    61.0\n",
              "Águas Vermelhas           33.252747   21.0    50.0\n",
              "Águas Mornas              90.511111   16.0   154.0\n",
              "Águas Lindas de Goiás   2116.307692  774.0  3477.0\n",
              "Águas Frias               31.766667    1.0    91.0\n",
              "Águas Formosas           218.373626   12.0   308.0\n",
              "Águas Belas              611.277778  386.0   787.0"
            ]
          },
          "metadata": {},
          "execution_count": 66
        }
      ]
    },
    {
      "cell_type": "markdown",
      "metadata": {
        "id": "e6tNMo_ES74Q"
      },
      "source": [
        "#Gráficos com sumarização de quantidade de casos e mortes cumulativos de covid19 por mês\n",
        "Nos dois próximos códigos, desconsiderando o mês de outubro de 2020, pelo fato dos dados cumulativos estarem mais baixos que os meses anteriores, provelmente porque quando foi criado o dataset alguns munícipios ainda não tinham liberados dados deste último mês.\n",
        "Assim, considerando apenas os meses de julho, agosto e setembro, percebe-se que a quantidade de infectados e mortes diminuiram drasticamente com o passar dos meses. Além disso o percentual de mortes em relação ao número de infectados caiu. Este fator pode estar relacionado a novos métodos descobertos, de combate a covid19.\n",
        "\n",
        "Desconsirando a primeira barra, referente à outubro, pelos motivos já mencionados, percebe-se que com os passar dos meses a diferença entre as barras ficam cada vez menor, indicando diminuição de novos casos e novas mortes em comparação aos meses."
      ]
    },
    {
      "cell_type": "code",
      "metadata": {
        "colab": {
          "base_uri": "https://localhost:8080/",
          "height": 407
        },
        "id": "lszePJGYTCZH",
        "outputId": "4df0b71c-7a07-42fd-b857-8ec3815c470d"
      },
      "source": [
        "#Número de casos de covid19 relacionados à meses\n",
        "import pandas as pd\n",
        "#carrega o arquivo csv e convert para dataFrame\n",
        "df1 = pd.read_csv('brazil_covid19_cities.csv')\n",
        "#Renomeia a coluna data para month\n",
        "df2 = df1.rename({'date': 'month'}, axis='columns')\n",
        "#Convert dados do tipo string para datetime na coluna month\n",
        "df2['month'] = pd.to_datetime(df2['month'])\n",
        "#Faz sumarização com numero de casos totais de covid19 para cada, nomeando \n",
        "#a nova coluna de cases\n",
        "df2.set_index('month',inplace=True)\n",
        "df3 = df2['cases'].resample('m').sum().sort_values().reset_index(name ='cases')\n",
        "#Plota gráfico do número de cados em cada mês (desconsidre outubro)\n",
        "df4 = df3.plot.bar(x='month', y='cases', title=\"Número de infectados por covid19 x meses\", rot=90)\n",
        "df4"
      ],
      "execution_count": null,
      "outputs": [
        {
          "output_type": "execute_result",
          "data": {
            "text/plain": [
              "<matplotlib.axes._subplots.AxesSubplot at 0x7fe0123e2390>"
            ]
          },
          "metadata": {},
          "execution_count": 31
        },
        {
          "output_type": "display_data",
          "data": {
            "image/png": "[encoded data removed]",
            "text/plain": [
              "<Figure size 432x288 with 1 Axes>"
            ]
          },
          "metadata": {
            "needs_background": "light"
          }
        }
      ]
    },
    {
      "cell_type": "code",
      "metadata": {
        "id": "tOaf2K9m9_hh",
        "colab": {
          "base_uri": "https://localhost:8080/",
          "height": 402
        },
        "outputId": "ae57df0f-32c0-4312-9f9d-0b04c6ec783a"
      },
      "source": [
        "#Código similar ao código anterior, porém para número de mortes por convid19\n",
        "import pandas as pd\n",
        "#carrega o arquivo csv e convert para dataFrame\n",
        "df1 = pd.read_csv('brazil_covid19_cities.csv')\n",
        "#Renomeia a coluna data para month\n",
        "df2 = df1.rename({'date': 'month'}, axis='columns')\n",
        "#Convert dados do tipo string para datetime na coluna month\n",
        "df2['month'] = pd.to_datetime(df2['month'])\n",
        "#Faz sumarização com numero de casos totais de covid19 para cada, nomeando \n",
        "#a nova coluna de cases\n",
        "df2.set_index('month',inplace=True)\n",
        "df3 = df2['deaths'].resample('m').sum().sort_values().reset_index(name ='deaths')\n",
        "#Plota gráfico do número de cados em cada mês (desconsidre outubro)\n",
        "df4 = df3.plot.bar(x='month', y='deaths', title=\"Número de mortes por covid19 x meses\",  rot=90)\n",
        "df4"
      ],
      "execution_count": null,
      "outputs": [
        {
          "output_type": "execute_result",
          "data": {
            "text/plain": [
              "<matplotlib.axes._subplots.AxesSubplot at 0x7fe0248dc550>"
            ]
          },
          "metadata": {},
          "execution_count": 18
        },
        {
          "output_type": "display_data",
          "data": {
            "image/png": "[encoded data removed]",
            "text/plain": [
              "<Figure size 432x288 with 1 Axes>"
            ]
          },
          "metadata": {
            "needs_background": "light"
          }
        }
      ]
    },
    {
      "cell_type": "markdown",
      "metadata": {
        "id": "O05NEM0SJIBO"
      },
      "source": [
        "#Gráfico com número de casos e mortes totais para cada Estado brasileiros até outubro de 2020.\n",
        "\n",
        "Percebe-se claramente a disparidade da pandemia em SP, provavelmente por ser muito populoso e um centro econômico e urbano brasileiro.\n",
        "\n",
        "Percebe-se que o número de mortes em relação aos infectados em SP é muito menor em que alguns Estados, como no RJ, provavelmente por investimentos maiores no combate à pandemia."
      ]
    },
    {
      "cell_type": "code",
      "metadata": {
        "colab": {
          "base_uri": "https://localhost:8080/",
          "height": 319
        },
        "id": "2BQ_9JfOQGrn",
        "outputId": "232a267f-403a-480c-9201-9f53dd454f4b"
      },
      "source": [
        "#Gráfico que Relaciona Estados e casos\n",
        "import pandas as pd\n",
        "#Importa o dataset csv\n",
        "df = pd.read_csv('brazil_covid19_cities.csv')\n",
        "#Agrupa todos estados com mesmos nomes\n",
        "df1 = df.groupby('state')\n",
        "#Selecion a columa cases do agrupamento, somas os valores para cada Estado, \n",
        "#e faz a ordenação do número de casos do maior para o menor e\n",
        "# cria um nome para nova coluna\n",
        "df2 = df1['cases'].sum().sort_values(ascending=False).reset_index(name ='cases')\n",
        "#Plota com Estado no eixo x e número de cados multiplicado por 10^7 no eixo y\n",
        "df3 = df2.plot.bar(x='state', y='cases', title=\"Número de infectados por covid19 x Estados\", rot=90)\n",
        "df3"
      ],
      "execution_count": null,
      "outputs": [
        {
          "output_type": "execute_result",
          "data": {
            "text/plain": [
              "<matplotlib.axes._subplots.AxesSubplot at 0x7fe0113d8f50>"
            ]
          },
          "metadata": {},
          "execution_count": 28
        },
        {
          "output_type": "display_data",
          "data": {
            "image/png": "[encoded data removed]",
            "text/plain": [
              "<Figure size 432x288 with 1 Axes>"
            ]
          },
          "metadata": {
            "needs_background": "light"
          }
        }
      ]
    },
    {
      "cell_type": "code",
      "metadata": {
        "colab": {
          "base_uri": "https://localhost:8080/",
          "height": 319
        },
        "id": "H1cDD9bF4F77",
        "outputId": "571183d0-924a-45f5-ea42-023bfa66043e"
      },
      "source": [
        "#Gráfico que Relaciona Estados e mortes\n",
        "import pandas as pd\n",
        "#Importa o dataset csv\n",
        "df = pd.read_csv('brazil_covid19_cities.csv')\n",
        "#Agrupa todos estados com mesmos nomes\n",
        "df1 = df.groupby('state')\n",
        "#Selecion a columa cases do agrupamento, somas os valores para cada Estado, \n",
        "#e faz a ordenação do número de casos do maior para o menor e\n",
        "# cria um nome para nova coluna\n",
        "df2 = df1['deaths'].sum().sort_values(ascending=False).reset_index(name ='deaths')\n",
        "#Plota com Estado no eixo x e número de cados multiplicado por 10^7 no eixo y\n",
        "df3 = df2.plot.bar(x='state', y='deaths', title=\"Número de mortes por covid19 x Estados\",  rot=90)\n",
        "df3"
      ],
      "execution_count": null,
      "outputs": [
        {
          "output_type": "execute_result",
          "data": {
            "text/plain": [
              "<matplotlib.axes._subplots.AxesSubplot at 0x7fe011326dd0>"
            ]
          },
          "metadata": {},
          "execution_count": 30
        },
        {
          "output_type": "display_data",
          "data": {
            "image/png": "[encoded data removed]",
            "text/plain": [
              "<Figure size 432x288 with 1 Axes>"
            ]
          },
          "metadata": {
            "needs_background": "light"
          }
        }
      ]
    }
  ]
}