{
  "nbformat": 4,
  "nbformat_minor": 0,
  "metadata": {
    "colab": {
      "name": "Etapa de Sumarizacao.ipynb",
      "provenance": []
    },
    "kernelspec": {
      "display_name": "Python 3",
      "name": "python3"
    },
    "language_info": {
      "name": "python"
    }
  },
  "cells": [
    {
      "cell_type": "code",
      "metadata": {
        "id": "9bVhgU8zQhUW"
      },
      "source": [
        "import pandas as pd"
      ],
      "execution_count": null,
      "outputs": []
    },
    {
      "cell_type": "code",
      "metadata": {
        "colab": {
          "base_uri": "https://localhost:8080/"
        },
        "id": "qBNp10WDbD-S",
        "outputId": "7cd5ee12-e415-4471-d4b6-e3ed7b9d914c"
      },
      "source": [
        "from google.colab import drive\n",
        "drive.mount('/content/drive')"
      ],
      "execution_count": null,
      "outputs": [
        {
          "output_type": "stream",
          "name": "stdout",
          "text": [
            "Mounted at /content/drive\n"
          ]
        }
      ]
    },
    {
      "cell_type": "code",
      "metadata": {
        "id": "KWynwG2xbEk_"
      },
      "source": [
        "planilha = pd.read_csv('/content/drive/My Drive/Pasta_Prog/dadosbrutos515 - ok.csv')"
      ],
      "execution_count": null,
      "outputs": []
    },
    {
      "cell_type": "code",
      "metadata": {
        "id": "OupqxZT2bGzW"
      },
      "source": [
        "from google.colab import data_table\n",
        "data_table.enable_dataframe_formatter()"
      ],
      "execution_count": null,
      "outputs": []
    },
    {
      "cell_type": "code",
      "metadata": {
        "colab": {
          "base_uri": "https://localhost:8080/"
        },
        "id": "7uzeyc3-bI4c",
        "outputId": "6c25d048-e07f-4be4-a9d5-37068e29e240"
      },
      "source": [
        "# primeira sumarizaçao de dados: Agrupaçao de média de valores contratados por estado:\n",
        "media_valor = planilha.groupby('UF').mean()['Valor contratado']\n",
        "media_valor"
      ],
      "execution_count": null,
      "outputs": [
        {
          "output_type": "execute_result",
          "data": {
            "text/plain": [
              "UF\n",
              "AC    4.333274e+07\n",
              "AL    3.404244e+07\n",
              "AM    4.538758e+07\n",
              "AP    8.924606e+07\n",
              "BA    4.901374e+07\n",
              "CE    3.719816e+07\n",
              "DF    1.782556e+08\n",
              "ES    4.387616e+07\n",
              "GO    2.675629e+07\n",
              "IE    7.390707e+07\n",
              "MA    9.998122e+07\n",
              "MG    3.372232e+07\n",
              "MS    5.287386e+07\n",
              "MT    5.309523e+07\n",
              "PA    1.452993e+08\n",
              "PB    4.490624e+07\n",
              "PE    7.702175e+07\n",
              "PI    4.347455e+07\n",
              "PR    3.477506e+07\n",
              "RJ    6.165595e+07\n",
              "RN    3.294111e+07\n",
              "RO    1.166310e+08\n",
              "RR    5.245269e+07\n",
              "RS    2.474531e+07\n",
              "SC    2.148649e+07\n",
              "SE    2.167000e+07\n",
              "SP    3.483788e+07\n",
              "TO    6.104049e+07\n",
              "Name: Valor contratado, dtype: float64"
            ]
          },
          "metadata": {},
          "execution_count": 32
        }
      ]
    },
    {
      "cell_type": "code",
      "metadata": {
        "colab": {
          "base_uri": "https://localhost:8080/"
        },
        "id": "uUF-ogQIcE65",
        "outputId": "fbd22363-7251-4b6d-aed6-1b24d5827d4d"
      },
      "source": [
        "# Total de empréstimos realizados por Estado:\n",
        "total_de_empréstimos = planilha.groupby('UF').count()['Valor contratado']\n",
        "total_de_empréstimos"
      ],
      "execution_count": null,
      "outputs": [
        {
          "output_type": "execute_result",
          "data": {
            "text/plain": [
              "UF\n",
              "AC      63\n",
              "AL      68\n",
              "AM     161\n",
              "AP      41\n",
              "BA    1024\n",
              "CE     487\n",
              "DF     124\n",
              "ES     271\n",
              "GO     610\n",
              "IE    2157\n",
              "MA     201\n",
              "MG    1519\n",
              "MS     376\n",
              "MT     384\n",
              "PA     297\n",
              "PB      94\n",
              "PE     452\n",
              "PI     222\n",
              "PR    1043\n",
              "RJ    1975\n",
              "RN     511\n",
              "RO     169\n",
              "RR       5\n",
              "RS    1415\n",
              "SC    1207\n",
              "SE      97\n",
              "SP    4587\n",
              "TO     100\n",
              "Name: Valor contratado, dtype: int64"
            ]
          },
          "metadata": {},
          "execution_count": 19
        }
      ]
    },
    {
      "cell_type": "code",
      "metadata": {
        "colab": {
          "base_uri": "https://localhost:8080/"
        },
        "id": "G2leat_AcpUg",
        "outputId": "be91fb52-9b9c-4bed-b086-95b35495db9b"
      },
      "source": [
        "# porte dos clientes do banco:\n",
        "situaçao_de_contratos = planilha.groupby(\"Porte do cliente\").count()['UF']\n",
        "situaçao_de_contratos"
      ],
      "execution_count": null,
      "outputs": [
        {
          "output_type": "execute_result",
          "data": {
            "text/plain": [
              "Porte do cliente\n",
              "GRANDE     17186\n",
              "MICRO        545\n",
              "MÉDIA       1199\n",
              "PEQUENA      730\n",
              "Name: UF, dtype: int64"
            ]
          },
          "metadata": {},
          "execution_count": 20
        }
      ]
    },
    {
      "cell_type": "code",
      "metadata": {
        "colab": {
          "base_uri": "https://localhost:8080/"
        },
        "id": "A6-714yDO14O",
        "outputId": "81c4ba92-997e-4e38-f497-b46c1c1c8a2d"
      },
      "source": [
        "# outra maneira de visualizar estes dados:\n",
        "pd.value_counts(planilha['Porte do cliente'])"
      ],
      "execution_count": null,
      "outputs": [
        {
          "output_type": "execute_result",
          "data": {
            "text/plain": [
              "GRANDE     17186\n",
              "MÉDIA       1199\n",
              "PEQUENA      730\n",
              "MICRO        545\n",
              "Name: Porte do cliente, dtype: int64"
            ]
          },
          "metadata": {},
          "execution_count": 22
        }
      ]
    },
    {
      "cell_type": "code",
      "metadata": {
        "colab": {
          "base_uri": "https://localhost:8080/"
        },
        "id": "OS1_Lp90SUv4",
        "outputId": "89b69efb-fe46-4186-b9a2-3159f0ce6ce1"
      },
      "source": [
        ""
      ],
      "execution_count": null,
      "outputs": [
        {
          "output_type": "execute_result",
          "data": {
            "text/plain": [
              "245"
            ]
          },
          "metadata": {},
          "execution_count": 31
        }
      ]
    }
  ]
}