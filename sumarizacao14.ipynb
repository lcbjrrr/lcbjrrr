{
  "nbformat": 4,
  "nbformat_minor": 0,
  "metadata": {
    "colab": {
      "name": "sumarizacao14.ipynb",
      "provenance": []
    },
    "kernelspec": {
      "name": "python3",
      "display_name": "Python 3"
    },
    "language_info": {
      "name": "python"
    }
  },
  "cells": [
    {
      "cell_type": "code",
      "metadata": {
        "colab": {
          "base_uri": "https://localhost:8080/",
          "height": 1000
        },
        "id": "tOT6odbcOCON",
        "outputId": "4d804858-8878-4394-c0e1-c2a2d982daa5"
      },
      "source": [
        "import pandas as pd\n",
        "dados = pd.read_csv('https://raw.githubusercontent.com/lcbjrrr/lcbjrrr/master/DistribuicaoAnestesicosBloqueadores%20-%20k.csv')\n",
        "dados"
      ],
      "execution_count": null,
      "outputs": [
        {
          "output_type": "execute_result",
          "data": {
            "text/html": [
              "<div>\n",
              "<style scoped>\n",
              "    .dataframe tbody tr th:only-of-type {\n",
              "        vertical-align: middle;\n",
              "    }\n",
              "\n",
              "    .dataframe tbody tr th {\n",
              "        vertical-align: top;\n",
              "    }\n",
              "\n",
              "    .dataframe thead th {\n",
              "        text-align: right;\n",
              "    }\n",
              "</style>\n",
              "<table border=\"1\" class=\"dataframe\">\n",
              "  <thead>\n",
              "    <tr style=\"text-align: right;\">\n",
              "      <th></th>\n",
              "      <th>REGI√O</th>\n",
              "      <th>ESTADO</th>\n",
              "      <th>DESTINAT¡RIO</th>\n",
              "      <th>ORIGEM</th>\n",
              "      <th>FORNECEDOR</th>\n",
              "      <th>MEDICAMENTO</th>\n",
              "      <th>APRESENTA«√O</th>\n",
              "      <th>QUANTIDADE</th>\n",
              "      <th>PEDIDO SISMAT</th>\n",
              "      <th>Pauta</th>\n",
              "      <th>STATUS</th>\n",
              "      <th>DATA DE ENTREGA</th>\n",
              "      <th>OBSERVA«√O</th>\n",
              "    </tr>\n",
              "  </thead>\n",
              "  <tbody>\n",
              "    <tr>\n",
              "      <th>0</th>\n",
              "      <td>SUDESTE</td>\n",
              "      <td>S√O PAULO</td>\n",
              "      <td>SES</td>\n",
              "      <td>REQUISI«√O ADMINISTRATIVA</td>\n",
              "      <td>CRIST¡LIA PRODUTOS QUÕMICOS E FARMAC UTICOS LTDA</td>\n",
              "      <td>DEXTROCETAMINA, CLORIDRATO 50 MG/ML</td>\n",
              "      <td>AMPOLA 10 mL</td>\n",
              "      <td>350</td>\n",
              "      <td>320424</td>\n",
              "      <td>1</td>\n",
              "      <td>Entrega realizada</td>\n",
              "      <td>6/29/2020</td>\n",
              "      <td>NaN</td>\n",
              "    </tr>\n",
              "    <tr>\n",
              "      <th>1</th>\n",
              "      <td>CENTRO-OESTE</td>\n",
              "      <td>MATO GROSSO</td>\n",
              "      <td>SES</td>\n",
              "      <td>REQUISI«√O ADMINISTRATIVA</td>\n",
              "      <td>CRIST¡LIA PRODUTOS QUÕMICOS E FARMAC UTICOS LTDA</td>\n",
              "      <td>DEXTROCETAMINA, CLORIDRATO 50 MG/ML</td>\n",
              "      <td>AMPOLA 10 mL</td>\n",
              "      <td>800</td>\n",
              "      <td>320423</td>\n",
              "      <td>1</td>\n",
              "      <td>Entrega realizada</td>\n",
              "      <td>6/29/2020</td>\n",
              "      <td>NaN</td>\n",
              "    </tr>\n",
              "    <tr>\n",
              "      <th>2</th>\n",
              "      <td>NORTE</td>\n",
              "      <td>AMAP¡</td>\n",
              "      <td>SES</td>\n",
              "      <td>REQUISI«√O ADMINISTRATIVA</td>\n",
              "      <td>CRIST¡LIA PRODUTOS QUÕMICOS E FARMAC UTICOS LTDA</td>\n",
              "      <td>DEXTROCETAMINA, CLORIDRATO 50 MG/ML</td>\n",
              "      <td>AMPOLA 10 mL</td>\n",
              "      <td>2200</td>\n",
              "      <td>320410</td>\n",
              "      <td>1</td>\n",
              "      <td>Entrega realizada</td>\n",
              "      <td>6/29/2020</td>\n",
              "      <td>NaN</td>\n",
              "    </tr>\n",
              "    <tr>\n",
              "      <th>3</th>\n",
              "      <td>NORDESTE</td>\n",
              "      <td>CEAR¡</td>\n",
              "      <td>SES</td>\n",
              "      <td>REQUISI«√O ADMINISTRATIVA</td>\n",
              "      <td>CRIST¡LIA PRODUTOS QUÕMICOS E FARMAC UTICOS LTDA</td>\n",
              "      <td>DEXTROCETAMINA, CLORIDRATO 50 MG/ML</td>\n",
              "      <td>AMPOLA 10 mL</td>\n",
              "      <td>16000</td>\n",
              "      <td>320412</td>\n",
              "      <td>1</td>\n",
              "      <td>Entrega realizada</td>\n",
              "      <td>6/29/2020</td>\n",
              "      <td>NaN</td>\n",
              "    </tr>\n",
              "    <tr>\n",
              "      <th>4</th>\n",
              "      <td>NORDESTE</td>\n",
              "      <td>RIO GRANDE DO NORTE</td>\n",
              "      <td>SES</td>\n",
              "      <td>REQUISI«√O ADMINISTRATIVA</td>\n",
              "      <td>CRIST¡LIA PRODUTOS QUÕMICOS E FARMAC UTICOS LTDA</td>\n",
              "      <td>DEXTROCETAMINA, CLORIDRATO 50 MG/ML</td>\n",
              "      <td>AMPOLA 10 mL</td>\n",
              "      <td>450</td>\n",
              "      <td>320420</td>\n",
              "      <td>1</td>\n",
              "      <td>Entrega realizada</td>\n",
              "      <td>6/29/2020</td>\n",
              "      <td>NaN</td>\n",
              "    </tr>\n",
              "    <tr>\n",
              "      <th>...</th>\n",
              "      <td>...</td>\n",
              "      <td>...</td>\n",
              "      <td>...</td>\n",
              "      <td>...</td>\n",
              "      <td>...</td>\n",
              "      <td>...</td>\n",
              "      <td>...</td>\n",
              "      <td>...</td>\n",
              "      <td>...</td>\n",
              "      <td>...</td>\n",
              "      <td>...</td>\n",
              "      <td>...</td>\n",
              "      <td>...</td>\n",
              "    </tr>\n",
              "    <tr>\n",
              "      <th>2113</th>\n",
              "      <td>NORDESTE</td>\n",
              "      <td>ALAGOAS</td>\n",
              "      <td>SES</td>\n",
              "      <td>ORGANIZA«√O PAN-AMERICANA DA SA⁄DE</td>\n",
              "      <td>DEMO S/A PHARMACEUTICAL INDUSTRY</td>\n",
              "      <td>MIDAZOLAM 5 MG/ML, SOLU«√O INJET¡VEL</td>\n",
              "      <td>AMPOLA 10 mL</td>\n",
              "      <td>2390</td>\n",
              "      <td>362884</td>\n",
              "      <td>64</td>\n",
              "      <td>Entrega em andamento</td>\n",
              "      <td>NaN</td>\n",
              "      <td>NaN</td>\n",
              "    </tr>\n",
              "    <tr>\n",
              "      <th>2114</th>\n",
              "      <td>NORTE</td>\n",
              "      <td>AMAP¡</td>\n",
              "      <td>SES</td>\n",
              "      <td>ORGANIZA«√O PAN-AMERICANA DA SA⁄DE</td>\n",
              "      <td>LABORATOIRE RENAUDIN</td>\n",
              "      <td>NOREPINEFRINA, HEMITARTARATO 2 MG/ML</td>\n",
              "      <td>AMPOLA 4 mL</td>\n",
              "      <td>3050</td>\n",
              "      <td>362885</td>\n",
              "      <td>64</td>\n",
              "      <td>Entrega em andamento</td>\n",
              "      <td>NaN</td>\n",
              "      <td>NaN</td>\n",
              "    </tr>\n",
              "    <tr>\n",
              "      <th>2115</th>\n",
              "      <td>CENTRO-OESTE</td>\n",
              "      <td>DISTRITO FEDERAL</td>\n",
              "      <td>SES</td>\n",
              "      <td>CONTRATO 88/2021 - ARP 101/2020</td>\n",
              "      <td>CRIST¡LIA PRODUTOS QUÕMICOS E FARMAC UTICOS LTDA</td>\n",
              "      <td>MORFINA, SULFATO 10 MG/ML</td>\n",
              "      <td>AMPOLA 1 mL</td>\n",
              "      <td>2150</td>\n",
              "      <td>362886</td>\n",
              "      <td>64</td>\n",
              "      <td>Entrega realizada</td>\n",
              "      <td>8/16/2021</td>\n",
              "      <td>NaN</td>\n",
              "    </tr>\n",
              "    <tr>\n",
              "      <th>2116</th>\n",
              "      <td>NORDESTE</td>\n",
              "      <td>RIO GRANDE DO NORTE</td>\n",
              "      <td>SES</td>\n",
              "      <td>ORGANIZA«√O PAN-AMERICANA DA SA⁄DE</td>\n",
              "      <td>LABORATOIRE RENAUDIN</td>\n",
              "      <td>NOREPINEFRINA, HEMITARTARATO 2 MG/ML</td>\n",
              "      <td>AMPOLA 4 mL</td>\n",
              "      <td>3150</td>\n",
              "      <td>362887</td>\n",
              "      <td>64</td>\n",
              "      <td>Entrega realizada</td>\n",
              "      <td>8/16/2021</td>\n",
              "      <td>NaN</td>\n",
              "    </tr>\n",
              "    <tr>\n",
              "      <th>2117</th>\n",
              "      <td>NORTE</td>\n",
              "      <td>RORAIMA</td>\n",
              "      <td>SES</td>\n",
              "      <td>ORGANIZA«√O PAN-AMERICANA DA SA⁄DE</td>\n",
              "      <td>LABORATOIRE RENAUDIN</td>\n",
              "      <td>NOREPINEFRINA, HEMITARTARATO 2 MG/ML</td>\n",
              "      <td>AMPOLA 4 mL</td>\n",
              "      <td>4200</td>\n",
              "      <td>362888</td>\n",
              "      <td>64</td>\n",
              "      <td>Entrega realizada</td>\n",
              "      <td>8/16/2021</td>\n",
              "      <td>NaN</td>\n",
              "    </tr>\n",
              "  </tbody>\n",
              "</table>\n",
              "<p>2118 rows × 13 columns</p>\n",
              "</div>"
            ],
            "text/plain": [
              "            REGI√O               ESTADO  ... DATA DE ENTREGA OBSERVA«√O\n",
              "0          SUDESTE            S√O PAULO  ...       6/29/2020        NaN\n",
              "1     CENTRO-OESTE          MATO GROSSO  ...       6/29/2020        NaN\n",
              "2            NORTE                AMAP¡  ...       6/29/2020        NaN\n",
              "3         NORDESTE                CEAR¡  ...       6/29/2020        NaN\n",
              "4         NORDESTE  RIO GRANDE DO NORTE  ...       6/29/2020        NaN\n",
              "...            ...                  ...  ...             ...        ...\n",
              "2113      NORDESTE              ALAGOAS  ...             NaN        NaN\n",
              "2114         NORTE                AMAP¡  ...             NaN        NaN\n",
              "2115  CENTRO-OESTE     DISTRITO FEDERAL  ...       8/16/2021        NaN\n",
              "2116      NORDESTE  RIO GRANDE DO NORTE  ...       8/16/2021        NaN\n",
              "2117         NORTE              RORAIMA  ...       8/16/2021        NaN\n",
              "\n",
              "[2118 rows x 13 columns]"
            ]
          },
          "metadata": {},
          "execution_count": 2
        }
      ]
    },
    {
      "cell_type": "code",
      "metadata": {
        "id": "rdW_ZzE6PEu0",
        "colab": {
          "base_uri": "https://localhost:8080/"
        },
        "outputId": "da812439-6020-49f9-da5b-ae0d91da0e43"
      },
      "source": [
        "soma_por_estado = dados.groupby('ESTADO').sum()['QUANTIDADE']\n",
        "print(soma_por_estado)"
      ],
      "execution_count": null,
      "outputs": [
        {
          "output_type": "stream",
          "name": "stdout",
          "text": [
            "ESTADO\n",
            "ACRE                     235484\n",
            "ALAGOAS                  643924\n",
            "AMAP¡                    719710\n",
            "AMAZONAS                 367306\n",
            "BAHIA                   1370457\n",
            "CEAR¡                    984645\n",
            "DISTRITO FEDERAL         474353\n",
            "ESPÕRITO SANTO           167002\n",
            "GOI¡S                    380036\n",
            "MARANH√O                 292936\n",
            "MATO GROSSO              418954\n",
            "MATO GROSSO DO SUL      2175864\n",
            "MINAS GERAIS             679106\n",
            "MINIST…RIO DA DEFESA     163750\n",
            "PARAN¡                  1152277\n",
            "PARAÕBA                  428067\n",
            "PAR¡                     600768\n",
            "PERNAMBUCO               262290\n",
            "PIAUÕ                    417157\n",
            "RIO DE JANEIRO          2327907\n",
            "RIO GRANDE DO NORTE      722093\n",
            "RIO GRANDE DO SUL        657886\n",
            "ROND‘NIA                 562043\n",
            "RORAIMA                  458786\n",
            "SANTA CATARINA           917236\n",
            "SERGIPE                  793137\n",
            "S√O PAULO               3506842\n",
            "TOCANTINS                161964\n",
            "Name: QUANTIDADE, dtype: int64\n"
          ]
        }
      ]
    },
    {
      "cell_type": "markdown",
      "metadata": {
        "id": "ZzWbVWhp-xZ-"
      },
      "source": [
        "Após a sumarização feita para descobrir a soma dos medicamentos entregues a cada um dos estados brasileiros, pode-se concluir que os estados que mais receberam medicamentos foram os estados de Sao paulo e Rio De Janeiro, já os que menos receberam foram o estado de Tocantins e o ministério da defesa."
      ]
    },
    {
      "cell_type": "code",
      "metadata": {
        "colab": {
          "base_uri": "https://localhost:8080/",
          "height": 180
        },
        "id": "2IBu7QF46tvz",
        "outputId": "4872b618-6211-4567-cd0c-df9edfd1b204"
      },
      "source": [
        "soma_por_regiao=dados.groupby('REGI√O').sum()['QUANTIDADE']\n",
        "print(soma_por_regiao)"
      ],
      "execution_count": null,
      "outputs": [
        {
          "output_type": "error",
          "ename": "NameError",
          "evalue": "ignored",
          "traceback": [
            "\u001b[0;31m---------------------------------------------------------------------------\u001b[0m",
            "\u001b[0;31mNameError\u001b[0m                                 Traceback (most recent call last)",
            "\u001b[0;32m<ipython-input-1-6b7d2692ebdd>\u001b[0m in \u001b[0;36m<module>\u001b[0;34m()\u001b[0m\n\u001b[0;32m----> 1\u001b[0;31m \u001b[0msoma_por_regiao\u001b[0m\u001b[0;34m=\u001b[0m\u001b[0mdados\u001b[0m\u001b[0;34m.\u001b[0m\u001b[0mgroupby\u001b[0m\u001b[0;34m(\u001b[0m\u001b[0;34m'REGI√O'\u001b[0m\u001b[0;34m)\u001b[0m\u001b[0;34m.\u001b[0m\u001b[0msum\u001b[0m\u001b[0;34m(\u001b[0m\u001b[0;34m)\u001b[0m\u001b[0;34m[\u001b[0m\u001b[0;34m'QUANTIDADE'\u001b[0m\u001b[0;34m]\u001b[0m\u001b[0;34m\u001b[0m\u001b[0;34m\u001b[0m\u001b[0m\n\u001b[0m\u001b[1;32m      2\u001b[0m \u001b[0mprint\u001b[0m\u001b[0;34m(\u001b[0m\u001b[0msoma_por_regiao\u001b[0m\u001b[0;34m)\u001b[0m\u001b[0;34m\u001b[0m\u001b[0;34m\u001b[0m\u001b[0m\n",
            "\u001b[0;31mNameError\u001b[0m: name 'dados' is not defined"
          ]
        }
      ]
    },
    {
      "cell_type": "markdown",
      "metadata": {
        "id": "AFP08cIn72jR"
      },
      "source": [
        "Após a sumarização feita para descobrir a soma de medicamentos enviados  para cada região do Brasil, pode-se concluir que a regiao com maior entrega de medicamentos foi a região centro oeste, já a de menor entrega foi a região sul, de modo que a que está marcada com um \"-\" não foi informada a regiao de entrega."
      ]
    },
    {
      "cell_type": "code",
      "metadata": {
        "colab": {
          "base_uri": "https://localhost:8080/"
        },
        "id": "UPOAIfBp_LEd",
        "outputId": "c8d8fc91-21fe-4458-c7bb-94bd192fa6e1"
      },
      "source": [
        "media_por_fornecedor=dados.groupby('FORNECEDOR').sum()['QUANTIDADE']\n",
        "print(media_por_fornecedor)"
      ],
      "execution_count": null,
      "outputs": [
        {
          "output_type": "stream",
          "name": "stdout",
          "text": [
            "FORNECEDOR\n",
            "-                                                                   114192\n",
            "ACCORD FARMACEUTICA LTDA                                            105743\n",
            "AMSTELFARMA BV                                                      149973\n",
            "ANTIBI”TICOS DO BRASIL LTDA                                          48250\n",
            "BLAU FARMACEUTICA                                                    46470\n",
            "BLAU FARMAC UTICA S/A                                               381514\n",
            "CRIST¡LIA PRODUTOS QUÕMICOS E FARMAC UTICOS LTDA                   9056300\n",
            "DEMO S/A PHARMACEUTICAL INDUST                                         250\n",
            "DEMO S/A PHARMACEUTICAL INDUSTRY                                      2390\n",
            "EUROFARMA                                                           250000\n",
            "EUROFARMA LABORATORIOS                                               70950\n",
            "FRESENIUS KABI                                                     1446740\n",
            "GLAXOSMITHKLINE BRASIL LTDA                                            100\n",
            "HIPOLABOR FARMAC UTICA LTDA                                          90400\n",
            "HOSPIRA PRODUTOS HOSPITALARES                                       519470\n",
            "HOSPITAL DE CAMPANHA RIOCENTRO                                       30000\n",
            "HYPOFARMA INSTITUTO DE HYPODERMIA E FARMACIA LTDA                    15500\n",
            "INTAS PHARMACEUTICALS LTD                                           118650\n",
            "JANSSEN-CILAG FARMAC UTICA LTDA                                     184420\n",
            "KALCEKS                                                             151390\n",
            "LABORATOIRE AGUETTANT                                               348450\n",
            "LABORATOIRE RENAUDIN                                                471170\n",
            "LABORATORIO TEUTO                                                  2313689\n",
            "MERCK                                                               250100\n",
            "MINIST…RIO DAS RELA«’ES EXTERIORES                                  535658\n",
            "MINT…RIO DAS RELA«’ES EXTERIORES                                     47520\n",
            "MYLAN LABORATORIES LIMITED                                            4900\n",
            "ONCOPROD                                                             43950\n",
            "ORGANIZA«√O PAN-AMERICANA DA SA⁄DE                                   17700\n",
            "REDE D'OR                                                             1000\n",
            "ROTEXM…DICA GmbH / DAFRA PHARMA LTD                                    650\n",
            "SCHERING-PLOUGH IND⁄STRIA FARMAC UTICA LTDA                         278113\n",
            "SOLUPHARM                                                           333560\n",
            "THE MEDICAL EXPORT GROUP                                             20000\n",
            "UNIMED                                                               28200\n",
            "UNI√O QUÕMICA FARMAC UTICA NACIONAL                                 756730\n",
            "UNI√O QUÕMICA FARMAC UTICA NACIONAL / EUROFARMA LABORATORIOS SA     109908\n",
            "VALE S/A                                                           3697980\n",
            "Name: QUANTIDADE, dtype: int64\n"
          ]
        }
      ]
    },
    {
      "cell_type": "markdown",
      "metadata": {
        "id": "OzMtJOhtWdas"
      },
      "source": [
        "Após a sumarização feita para descobrir a soma de medicamentos enviados por fornecedor,pode-se concluir que o fornecedor que mais enviou medicamentos foi a CRIST¡LIA PRODUTOS QUÕMICOS E FARMAC UTICOS LTDA .Ja o fornecedor que menos entregou remedio foi a DEMO S/A PHARMACEUTICAL INDUST."
      ]
    }
  ]
}