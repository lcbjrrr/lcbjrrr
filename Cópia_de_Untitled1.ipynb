{
  "nbformat": 4,
  "nbformat_minor": 0,
  "metadata": {
    "colab": {
      "name": "Cópia de Untitled1.ipynb",
      "provenance": [],
      "collapsed_sections": [],
      "include_colab_link": true
    },
    "kernelspec": {
      "name": "python3",
      "display_name": "Python 3"
    },
    "language_info": {
      "name": "python"
    }
  },
  "cells": [
    {
      "cell_type": "markdown",
      "metadata": {
        "id": "view-in-github",
        "colab_type": "text"
      },
      "source": [
        "<a href=\"https://colab.research.google.com/github/lcbjrrr/lcbjrrr/blob/master/C%C3%B3pia_de_Untitled1.ipynb\" target=\"_parent\"><img src=\"https://colab.research.google.com/assets/colab-badge.svg\" alt=\"Open In Colab\"/></a>"
      ]
    },
    {
      "cell_type": "code",
      "metadata": {
        "colab": {
          "base_uri": "https://localhost:8080/",
          "height": 419
        },
        "id": "AR_zTKMk6uR2",
        "outputId": "8cab4361-8034-4158-f9a1-dde44272b10d"
      },
      "source": [
        "import pandas as pd\n",
        "data = pd.read_csv('https://docs.google.com/spreadsheets/d/e/2PACX-1vS7Kctxm5XlQ_ofIPaYJVwwxrJes1H0hQjU79f3XpCII6fNS2tAVybjg6t8otfYX0UPMsihYSdxSPl_/pub?output=csv')\n",
        "data.head(1480)\n",
        "\n"
      ],
      "execution_count": null,
      "outputs": [
        {
          "output_type": "execute_result",
          "data": {
            "text/html": [
              "<div>\n",
              "<style scoped>\n",
              "    .dataframe tbody tr th:only-of-type {\n",
              "        vertical-align: middle;\n",
              "    }\n",
              "\n",
              "    .dataframe tbody tr th {\n",
              "        vertical-align: top;\n",
              "    }\n",
              "\n",
              "    .dataframe thead th {\n",
              "        text-align: right;\n",
              "    }\n",
              "</style>\n",
              "<table border=\"1\" class=\"dataframe\">\n",
              "  <thead>\n",
              "    <tr style=\"text-align: right;\">\n",
              "      <th></th>\n",
              "      <th>Datas</th>\n",
              "      <th>Estados</th>\n",
              "      <th>Número de novos casos</th>\n",
              "    </tr>\n",
              "  </thead>\n",
              "  <tbody>\n",
              "    <tr>\n",
              "      <th>0</th>\n",
              "      <td>26/fev.</td>\n",
              "      <td>São Paulo</td>\n",
              "      <td>1</td>\n",
              "    </tr>\n",
              "    <tr>\n",
              "      <th>1</th>\n",
              "      <td>27/fev.</td>\n",
              "      <td>São Paulo</td>\n",
              "      <td>1</td>\n",
              "    </tr>\n",
              "    <tr>\n",
              "      <th>2</th>\n",
              "      <td>28/fev.</td>\n",
              "      <td>São Paulo</td>\n",
              "      <td>1</td>\n",
              "    </tr>\n",
              "    <tr>\n",
              "      <th>3</th>\n",
              "      <td>29/fev</td>\n",
              "      <td>São Paulo</td>\n",
              "      <td>1</td>\n",
              "    </tr>\n",
              "    <tr>\n",
              "      <th>4</th>\n",
              "      <td>01/mar.</td>\n",
              "      <td>São Paulo</td>\n",
              "      <td>1</td>\n",
              "    </tr>\n",
              "    <tr>\n",
              "      <th>...</th>\n",
              "      <td>...</td>\n",
              "      <td>...</td>\n",
              "      <td>...</td>\n",
              "    </tr>\n",
              "    <tr>\n",
              "      <th>1475</th>\n",
              "      <td>25/fev.</td>\n",
              "      <td>Espírito Santo</td>\n",
              "      <td>1.413</td>\n",
              "    </tr>\n",
              "    <tr>\n",
              "      <th>1476</th>\n",
              "      <td>26/fev.</td>\n",
              "      <td>Espírito Santo</td>\n",
              "      <td>1.183</td>\n",
              "    </tr>\n",
              "    <tr>\n",
              "      <th>1477</th>\n",
              "      <td>27/fev.</td>\n",
              "      <td>Espírito Santo</td>\n",
              "      <td>1.089</td>\n",
              "    </tr>\n",
              "    <tr>\n",
              "      <th>1478</th>\n",
              "      <td>28/fev.</td>\n",
              "      <td>Espírito Santo</td>\n",
              "      <td>990</td>\n",
              "    </tr>\n",
              "    <tr>\n",
              "      <th>1479</th>\n",
              "      <td>01/mar.</td>\n",
              "      <td>Espírito Santo</td>\n",
              "      <td>1.210</td>\n",
              "    </tr>\n",
              "  </tbody>\n",
              "</table>\n",
              "<p>1480 rows × 3 columns</p>\n",
              "</div>"
            ],
            "text/plain": [
              "        Datas         Estados Número de novos casos\n",
              "0     26/fev.       São Paulo                     1\n",
              "1     27/fev.       São Paulo                     1\n",
              "2     28/fev.       São Paulo                     1\n",
              "3      29/fev       São Paulo                     1\n",
              "4     01/mar.       São Paulo                     1\n",
              "...       ...             ...                   ...\n",
              "1475  25/fev.  Espírito Santo                 1.413\n",
              "1476  26/fev.  Espírito Santo                 1.183\n",
              "1477  27/fev.  Espírito Santo                 1.089\n",
              "1478  28/fev.  Espírito Santo                   990\n",
              "1479  01/mar.  Espírito Santo                 1.210\n",
              "\n",
              "[1480 rows x 3 columns]"
            ]
          },
          "metadata": {},
          "execution_count": 107
        }
      ]
    },
    {
      "cell_type": "code",
      "metadata": {
        "id": "tz9ahzI8dBEJ"
      },
      "source": [
        "casos = pd.to_numeric(data['Número de novos casos'], errors='coerce')"
      ],
      "execution_count": null,
      "outputs": []
    },
    {
      "cell_type": "code",
      "metadata": {
        "colab": {
          "base_uri": "https://localhost:8080/"
        },
        "id": "SPwo6iuAeIqP",
        "outputId": "3a2b9c2b-709d-4d24-e1c8-cf7fef5d48ca"
      },
      "source": [
        "media = casos.mean()\n",
        "print(media)"
      ],
      "execution_count": null,
      "outputs": [
        {
          "output_type": "stream",
          "name": "stdout",
          "text": [
            "152.46312005649722\n"
          ]
        }
      ]
    },
    {
      "cell_type": "code",
      "metadata": {
        "colab": {
          "base_uri": "https://localhost:8080/"
        },
        "id": "OiRHFuvpeL5o",
        "outputId": "8f95400a-e777-4988-8c3f-fa907625c1a0"
      },
      "source": [
        "min = casos.min()\n",
        "print(min)"
      ],
      "execution_count": null,
      "outputs": [
        {
          "output_type": "stream",
          "name": "stdout",
          "text": [
            "1.0\n"
          ]
        }
      ]
    },
    {
      "cell_type": "code",
      "metadata": {
        "colab": {
          "base_uri": "https://localhost:8080/"
        },
        "id": "dZMmo_oheSvf",
        "outputId": "3dab1600-97ab-4faa-d31c-01c3d92ed473"
      },
      "source": [
        "max = casos.max()\n",
        "print(max)"
      ],
      "execution_count": null,
      "outputs": [
        {
          "output_type": "stream",
          "name": "stdout",
          "text": [
            "995.0\n"
          ]
        }
      ]
    }
  ]
}